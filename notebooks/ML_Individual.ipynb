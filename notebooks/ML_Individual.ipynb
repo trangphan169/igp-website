{
 "cells": [
  {
   "cell_type": "markdown",
   "id": "53372d19",
   "metadata": {},
   "source": [
    "# Importing Necessary Libraries."
   ]
  },
  {
   "cell_type": "code",
   "execution_count": 108,
   "id": "59df2a95",
   "metadata": {
    "ExecuteTime": {
     "end_time": "2024-03-27T20:38:19.366588Z",
     "start_time": "2024-03-27T20:38:19.352028Z"
    }
   },
   "outputs": [],
   "source": [
    "import pandas as pd\n",
    "import numpy as np\n",
    "import matplotlib.pyplot as plt\n",
    "import seaborn as sns\n",
    "import os\n",
    "import copy\n",
    "import pickle\n",
    "import argparse\n",
    "import json\n",
    "from datetime import datetime\n",
    "from sklearn import metrics\n",
    "from sklearn.preprocessing import StandardScaler\n",
    "from sklearn.pipeline import make_pipeline\n",
    "from sklearn.metrics import classification_report, roc_curve, precision_recall_curve, roc_auc_score, f1_score, confusion_matrix\n",
    "from sklearn.naive_bayes import MultinomialNB\n",
    "from sklearn.linear_model import LogisticRegression\n",
    "from sklearn.ensemble import GradientBoostingClassifier, RandomForestClassifier\n",
    "from sklearn.neighbors import KNeighborsClassifier, KNeighborsRegressor\n",
    "from sklearn.svm import SVC\n",
    "import xgboost as xgb\n",
    "from imblearn.pipeline import Pipeline\n",
    "from imblearn.over_sampling import SMOTE\n",
    "from xgboost import XGBClassifier\n",
    "from collections import Counter\n",
    "import shap\n",
    "from tqdm import tqdm\n",
    "from sklearn.impute import SimpleImputer\n",
    "from sklearn.feature_selection import SelectKBest\n",
    "from sklearn.feature_selection import f_classif\n",
    "from collections import OrderedDict\n",
    "from sklearn.model_selection import GridSearchCV, cross_val_predict\n",
    "%matplotlib inline"
   ]
  },
  {
   "cell_type": "markdown",
   "id": "33a917fa",
   "metadata": {},
   "source": [
    "# Reading the DataSet"
   ]
  },
  {
   "cell_type": "markdown",
   "id": "62fc2f9b",
   "metadata": {},
   "source": [
    "### Define file Path"
   ]
  },
  {
   "cell_type": "code",
   "execution_count": 2,
   "id": "490d063d",
   "metadata": {
    "ExecuteTime": {
     "end_time": "2024-03-27T19:40:53.746746Z",
     "start_time": "2024-03-27T19:40:53.745301Z"
    }
   },
   "outputs": [],
   "source": [
    "data_directory = \"/Users/rolex/Desktop/IGP/Project/Data/\"\n",
    "df_train_scaled = 'df_train_scaled.csv.zip'\n",
    "df_test_scaled = 'df_test_scaled.csv.zip'\n",
    "df_train_path = os.path.join(data_directory , df_train_scaled)\n",
    "df_test_path = os.path.join(data_directory , df_test_scaled)"
   ]
  },
  {
   "cell_type": "markdown",
   "id": "ac345ee7",
   "metadata": {},
   "source": [
    "### Read CSV file in chunks"
   ]
  },
  {
   "cell_type": "code",
   "execution_count": 3,
   "id": "d2506853",
   "metadata": {
    "ExecuteTime": {
     "end_time": "2024-03-27T19:40:56.648986Z",
     "start_time": "2024-03-27T19:40:53.747325Z"
    }
   },
   "outputs": [],
   "source": [
    "chunk_size = 10000\n",
    "df_train_chunks = pd.read_csv(df_train_path, index_col=0, compression='zip', chunksize = chunk_size)\n",
    "df_test_chunks = pd.read_csv(df_test_path, index_col=0, compression='zip', chunksize = chunk_size)\n",
    "\n",
    "#Concatenate chunks into single DataFrame\n",
    "df_train = pd.concat(df_train_chunks)\n",
    "df_test = pd.concat(df_test_chunks)"
   ]
  },
  {
   "cell_type": "code",
   "execution_count": 4,
   "id": "3e408bb1",
   "metadata": {
    "ExecuteTime": {
     "end_time": "2024-03-27T19:40:56.654300Z",
     "start_time": "2024-03-27T19:40:56.650387Z"
    }
   },
   "outputs": [],
   "source": [
    "# Define threshold for binary classification\n",
    "threshold = 0.5\n",
    "\n",
    "# Convert loan_status to binary\n",
    "df_train['loan_status'] = (df_train['loan_status'] > threshold).astype(int)\n",
    "df_test['loan_status'] = (df_test['loan_status'] > threshold).astype(int)\n"
   ]
  },
  {
   "cell_type": "code",
   "execution_count": 5,
   "id": "30d2f5ca",
   "metadata": {
    "ExecuteTime": {
     "end_time": "2024-03-27T19:40:56.656670Z",
     "start_time": "2024-03-27T19:40:56.654846Z"
    }
   },
   "outputs": [
    {
     "data": {
      "text/plain": [
       "((1073090, 21), (194208, 21))"
      ]
     },
     "execution_count": 5,
     "metadata": {},
     "output_type": "execute_result"
    }
   ],
   "source": [
    "df_train.shape, df_test.shape"
   ]
  },
  {
   "cell_type": "markdown",
   "id": "ea6abd05",
   "metadata": {},
   "source": [
    "# Response Variable"
   ]
  },
  {
   "cell_type": "code",
   "execution_count": 6,
   "id": "576b7da4",
   "metadata": {
    "ExecuteTime": {
     "end_time": "2024-03-27T19:40:56.683300Z",
     "start_time": "2024-03-27T19:40:56.657249Z"
    }
   },
   "outputs": [],
   "source": [
    "target_column = 'loan_status'\n",
    "\n",
    "#Extracting feature space and target variable\n",
    "X_train = df_train.drop(columns = target_column)\n",
    "X_test = df_test.drop(columns = target_column)\n",
    "\n",
    "y_train = df_train[target_column]\n",
    "y_test = df_test[target_column]"
   ]
  },
  {
   "cell_type": "code",
   "execution_count": 7,
   "id": "142abc2f",
   "metadata": {
    "ExecuteTime": {
     "end_time": "2024-03-27T19:40:56.686025Z",
     "start_time": "2024-03-27T19:40:56.684021Z"
    }
   },
   "outputs": [
    {
     "data": {
      "text/plain": [
       "((1073090, 20), (194208, 20), (1073090,), (194208,))"
      ]
     },
     "execution_count": 7,
     "metadata": {},
     "output_type": "execute_result"
    }
   ],
   "source": [
    "X_train.shape,X_test.shape,y_train.shape,y_test.shape"
   ]
  },
  {
   "cell_type": "markdown",
   "id": "fdaabe4d",
   "metadata": {},
   "source": [
    "# Top-features"
   ]
  },
  {
   "cell_type": "code",
   "execution_count": 8,
   "id": "b8b55813",
   "metadata": {
    "ExecuteTime": {
     "end_time": "2024-03-27T19:40:56.977812Z",
     "start_time": "2024-03-27T19:40:56.686780Z"
    }
   },
   "outputs": [
    {
     "name": "stdout",
     "output_type": "stream",
     "text": [
      "                     Specs         pvalue         Score\n",
      "3                sub_grade   0.000000e+00  85040.105921\n",
      "2                    grade   0.000000e+00  81124.312578\n",
      "1                 int_rate   0.000000e+00  79815.493509\n",
      "0                     term   0.000000e+00  43421.239487\n",
      "17   balance_annual_income   0.000000e+00  20533.768543\n",
      "18          fico_avg_score   0.000000e+00  18917.563100\n",
      "9                      dti   0.000000e+00  13431.938020\n",
      "19  installment_amnt_ratio   0.000000e+00   6027.993889\n",
      "7      verification_status   0.000000e+00   4585.184621\n",
      "13                mort_acc   0.000000e+00   4327.893116\n",
      "12              revol_util   0.000000e+00   3310.560083\n",
      "16       credit_line_ratio   0.000000e+00   3269.616078\n",
      "6               annual_inc   0.000000e+00   3221.386981\n",
      "5           home_ownership   0.000000e+00   2426.120497\n",
      "15          credit_history   0.000000e+00   1621.979205\n",
      "10                 pub_rec  3.666157e-269   1229.329829\n",
      "14    pub_rec_bankruptcies  1.512862e-169    770.621678\n",
      "11               revol_bal   9.878929e-87    389.718006\n",
      "8                  purpose   1.333839e-80    361.551242\n",
      "4               emp_length   2.798661e-25    107.925356\n"
     ]
    }
   ],
   "source": [
    "k = 20 #no. of best top-features to select\n",
    "\n",
    "#pipeline with imputation and feature selection\n",
    "pipeline = Pipeline([\n",
    "    ('imputer', SimpleImputer(strategy='mean')),\n",
    "    ('selector', SelectKBest(score_func=f_classif, k=k))\n",
    "])\n",
    "\n",
    "# Fitting pipeline to training data\n",
    "pipeline.fit(X_train, y_train)\n",
    "\n",
    "# Extract p-values and scores\n",
    "pvalues = pipeline.named_steps['selector'].pvalues_\n",
    "scores = pipeline.named_steps['selector'].scores_\n",
    "\n",
    "# Create DataFrame for better visualization\n",
    "feature_scores = pd.DataFrame({\n",
    "    'Specs': X_train.columns,\n",
    "    'pvalue': pvalues,\n",
    "    'Score': scores\n",
    "})\n",
    "\n",
    "# Sort and print the top features\n",
    "top_features = feature_scores.nlargest(k, 'Score')\n",
    "print(top_features)"
   ]
  },
  {
   "cell_type": "markdown",
   "id": "bed7d5cc",
   "metadata": {},
   "source": [
    "# Drop Columns"
   ]
  },
  {
   "cell_type": "code",
   "execution_count": 9,
   "id": "5d85d4fa",
   "metadata": {
    "ExecuteTime": {
     "end_time": "2024-03-27T19:40:57.019722Z",
     "start_time": "2024-03-27T19:40:56.978890Z"
    }
   },
   "outputs": [
    {
     "name": "stdout",
     "output_type": "stream",
     "text": [
      "(1073090, 13) (194208, 13)\n"
     ]
    }
   ],
   "source": [
    "drop_features = ['pub_rec','pub_rec_bankruptcies','emp_length','purpose','revol_bal','grade','int_rate']\n",
    "\n",
    "# Drop columns from df_train and df_test\n",
    "df_train = df_train.drop(columns = drop_features)\n",
    "df_test = df_test.drop(columns = drop_features)\n",
    "\n",
    "# Reassign X_train and X_test\n",
    "X_train = df_train.drop(columns = [target_column])\n",
    "X_test = df_test.drop(columns = [target_column])\n",
    "\n",
    "\n",
    "print(X_train.shape, X_test.shape) "
   ]
  },
  {
   "cell_type": "markdown",
   "id": "a0c8fb78",
   "metadata": {},
   "source": [
    "# Dictionaries to store ROC and precision-recall curve data"
   ]
  },
  {
   "cell_type": "code",
   "execution_count": 10,
   "id": "762061bb",
   "metadata": {
    "ExecuteTime": {
     "end_time": "2024-03-27T19:40:57.023903Z",
     "start_time": "2024-03-27T19:40:57.021615Z"
    }
   },
   "outputs": [],
   "source": [
    "roc_dict = {}\n",
    "prc_dict = {}\n",
    "\n",
    "#function to modify ROC dictionary\n",
    "def update_roc_dict(clf, y_test, X_test, name, dict_modify):\n",
    "    \"\"\"\n",
    "    Updates a dictionary with ROC metrics for a given classifier.\n",
    "    \"\"\"\n",
    "    fpr, tpr, thresholds = roc_curve(y_test,\n",
    "                                     clf.predict_proba(X_test)[: , 1],\n",
    "                                     pos_label = 1)\n",
    "    clf_roc_dict = {'fpr': fpr, 'tpr': tpr, 'thresholds': thresholds}\n",
    "    dict_modify[name] = clf_roc_dict\n",
    "\n",
    "# function to modify precision-recall dictionary\n",
    "def update_prc_dict(clf, y_test, X_test, name, dict_modify):\n",
    "    \"\"\"\n",
    "    Updates a dictionary with precision-recall metrics for a given classifier.\n",
    "    \"\"\"\n",
    "    precision, recall, thresholds = precision_recall_curve(y_test,\n",
    "                                     clf.predict_proba(X_test)[: , 1],\n",
    "                                     pos_label = 1)\n",
    "    clf_prc_dict = {'precision': precision, 'recall': recall, 'thresholds': thresholds}\n",
    "    dict_modify[name] = clf_prc_dict\n",
    "\n",
    "# update_roc_dict(clf, y_test, X_test, 'classifier_name', roc_dict)\n",
    "# update_prc_dict(clf, y_test, X_test, 'classifier_name', prc_dict)"
   ]
  },
  {
   "cell_type": "markdown",
   "id": "566cb645",
   "metadata": {},
   "source": [
    "# Custom function to fit a classifier from scikit-learn that returns a DataFrame containing classification report."
   ]
  },
  {
   "cell_type": "code",
   "execution_count": 11,
   "id": "ec069382",
   "metadata": {
    "ExecuteTime": {
     "end_time": "2024-03-27T19:40:57.026320Z",
     "start_time": "2024-03-27T19:40:57.024494Z"
    }
   },
   "outputs": [],
   "source": [
    "def fit_score_classifier(classifier, X_train, y_train, X_test, y_test, name='classifier'):\n",
    "    \"\"\"\n",
    "    Parameters:\n",
    "        classifier (sklearn classifier): Classifier object\n",
    "        X_train (numpy array): Training features\n",
    "        y_train (numpy array): Training labels\n",
    "        X_test (numpy array): Test features\n",
    "        y_test (numpy array): Test labels\n",
    "        name (string): Name of the classifier\n",
    "        \n",
    "    Returns:\n",
    "        pd.DataFrame: DataFrame containing classification report\n",
    "    \"\"\"\n",
    "    # Fit the classifier to the training data\n",
    "    classifier.fit(X_train, y_train)\n",
    "    \n",
    "    # Make predictions\n",
    "    y_pred = classifier.predict(X_test)\n",
    "    \n",
    "    # Generate classification report\n",
    "    classifier_report_dict = classification_report(y_test, y_pred, output_dict=True)\n",
    "    \n",
    "    # Convert classification report dictionary to DataFrame\n",
    "    classifier_report = pd.DataFrame.from_dict(classifier_report_dict)\n",
    "    \n",
    "    # Add classifier name as a column\n",
    "    classifier_report['classifier'] = name\n",
    "    \n",
    "    return classifier_report"
   ]
  },
  {
   "cell_type": "markdown",
   "id": "c1723025",
   "metadata": {},
   "source": [
    "# Logistic Regression"
   ]
  },
  {
   "cell_type": "code",
   "execution_count": 12,
   "id": "8de2d148",
   "metadata": {
    "ExecuteTime": {
     "end_time": "2024-03-27T19:40:58.186243Z",
     "start_time": "2024-03-27T19:40:57.026906Z"
    }
   },
   "outputs": [
    {
     "data": {
      "text/html": [
       "<div>\n",
       "<style scoped>\n",
       "    .dataframe tbody tr th:only-of-type {\n",
       "        vertical-align: middle;\n",
       "    }\n",
       "\n",
       "    .dataframe tbody tr th {\n",
       "        vertical-align: top;\n",
       "    }\n",
       "\n",
       "    .dataframe thead th {\n",
       "        text-align: right;\n",
       "    }\n",
       "</style>\n",
       "<table border=\"1\" class=\"dataframe\">\n",
       "  <thead>\n",
       "    <tr style=\"text-align: right;\">\n",
       "      <th></th>\n",
       "      <th>0</th>\n",
       "      <th>1</th>\n",
       "      <th>accuracy</th>\n",
       "      <th>macro avg</th>\n",
       "      <th>weighted avg</th>\n",
       "      <th>classifier</th>\n",
       "    </tr>\n",
       "  </thead>\n",
       "  <tbody>\n",
       "    <tr>\n",
       "      <th>precision</th>\n",
       "      <td>0.732913</td>\n",
       "      <td>0.576291</td>\n",
       "      <td>0.728199</td>\n",
       "      <td>0.654602</td>\n",
       "      <td>0.689624</td>\n",
       "      <td>lr</td>\n",
       "    </tr>\n",
       "    <tr>\n",
       "      <th>recall</th>\n",
       "      <td>0.982374</td>\n",
       "      <td>0.062763</td>\n",
       "      <td>0.728199</td>\n",
       "      <td>0.522569</td>\n",
       "      <td>0.728199</td>\n",
       "      <td>lr</td>\n",
       "    </tr>\n",
       "    <tr>\n",
       "      <th>f1-score</th>\n",
       "      <td>0.839504</td>\n",
       "      <td>0.113198</td>\n",
       "      <td>0.728199</td>\n",
       "      <td>0.476351</td>\n",
       "      <td>0.638757</td>\n",
       "      <td>lr</td>\n",
       "    </tr>\n",
       "    <tr>\n",
       "      <th>support</th>\n",
       "      <td>140530.000000</td>\n",
       "      <td>53678.000000</td>\n",
       "      <td>0.728199</td>\n",
       "      <td>194208.000000</td>\n",
       "      <td>194208.000000</td>\n",
       "      <td>lr</td>\n",
       "    </tr>\n",
       "  </tbody>\n",
       "</table>\n",
       "</div>"
      ],
      "text/plain": [
       "                       0             1  accuracy      macro avg  \\\n",
       "precision       0.732913      0.576291  0.728199       0.654602   \n",
       "recall          0.982374      0.062763  0.728199       0.522569   \n",
       "f1-score        0.839504      0.113198  0.728199       0.476351   \n",
       "support    140530.000000  53678.000000  0.728199  194208.000000   \n",
       "\n",
       "            weighted avg classifier  \n",
       "precision       0.689624         lr  \n",
       "recall          0.728199         lr  \n",
       "f1-score        0.638757         lr  \n",
       "support    194208.000000         lr  "
      ]
     },
     "execution_count": 12,
     "metadata": {},
     "output_type": "execute_result"
    }
   ],
   "source": [
    "# Instantiate logistic regression with default parameters\n",
    "lr = LogisticRegression(penalty = 'l2', C = 1.0, solver = 'lbfgs', max_iter = 400, n_jobs = -1)\n",
    "\n",
    "lr_report = fit_score_classifier(lr, X_train, y_train, X_test, y_test, name = 'lr')\n",
    "lr_report.head()"
   ]
  },
  {
   "cell_type": "code",
   "execution_count": 13,
   "id": "9153ac0d",
   "metadata": {
    "ExecuteTime": {
     "end_time": "2024-03-27T19:40:58.288699Z",
     "start_time": "2024-03-27T19:40:58.196981Z"
    }
   },
   "outputs": [],
   "source": [
    "#Metrics for LR\n",
    "update_roc_dict(clf = lr, y_test = y_test, X_test = X_test, name = 'Logistic Regression', dict_modify = roc_dict)\n",
    "update_prc_dict(clf = lr, y_test = y_test, X_test = X_test, name = 'Logistic Regression', dict_modify = prc_dict)"
   ]
  },
  {
   "cell_type": "markdown",
   "id": "59ac0bb9",
   "metadata": {},
   "source": [
    "# Gradient Boosting"
   ]
  },
  {
   "cell_type": "code",
   "execution_count": 14,
   "id": "e233f815",
   "metadata": {
    "ExecuteTime": {
     "end_time": "2024-03-27T19:45:08.197927Z",
     "start_time": "2024-03-27T19:40:58.307792Z"
    }
   },
   "outputs": [
    {
     "data": {
      "text/html": [
       "<div>\n",
       "<style scoped>\n",
       "    .dataframe tbody tr th:only-of-type {\n",
       "        vertical-align: middle;\n",
       "    }\n",
       "\n",
       "    .dataframe tbody tr th {\n",
       "        vertical-align: top;\n",
       "    }\n",
       "\n",
       "    .dataframe thead th {\n",
       "        text-align: right;\n",
       "    }\n",
       "</style>\n",
       "<table border=\"1\" class=\"dataframe\">\n",
       "  <thead>\n",
       "    <tr style=\"text-align: right;\">\n",
       "      <th></th>\n",
       "      <th>0</th>\n",
       "      <th>1</th>\n",
       "      <th>accuracy</th>\n",
       "      <th>macro avg</th>\n",
       "      <th>weighted avg</th>\n",
       "      <th>classifier</th>\n",
       "    </tr>\n",
       "  </thead>\n",
       "  <tbody>\n",
       "    <tr>\n",
       "      <th>precision</th>\n",
       "      <td>0.732122</td>\n",
       "      <td>0.600000</td>\n",
       "      <td>0.728734</td>\n",
       "      <td>0.666061</td>\n",
       "      <td>0.695604</td>\n",
       "      <td>gb</td>\n",
       "    </tr>\n",
       "    <tr>\n",
       "      <th>recall</th>\n",
       "      <td>0.985825</td>\n",
       "      <td>0.055665</td>\n",
       "      <td>0.728734</td>\n",
       "      <td>0.520745</td>\n",
       "      <td>0.728734</td>\n",
       "      <td>gb</td>\n",
       "    </tr>\n",
       "    <tr>\n",
       "      <th>f1-score</th>\n",
       "      <td>0.840240</td>\n",
       "      <td>0.101879</td>\n",
       "      <td>0.728734</td>\n",
       "      <td>0.471060</td>\n",
       "      <td>0.636161</td>\n",
       "      <td>gb</td>\n",
       "    </tr>\n",
       "    <tr>\n",
       "      <th>support</th>\n",
       "      <td>140530.000000</td>\n",
       "      <td>53678.000000</td>\n",
       "      <td>0.728734</td>\n",
       "      <td>194208.000000</td>\n",
       "      <td>194208.000000</td>\n",
       "      <td>gb</td>\n",
       "    </tr>\n",
       "  </tbody>\n",
       "</table>\n",
       "</div>"
      ],
      "text/plain": [
       "                       0             1  accuracy      macro avg  \\\n",
       "precision       0.732122      0.600000  0.728734       0.666061   \n",
       "recall          0.985825      0.055665  0.728734       0.520745   \n",
       "f1-score        0.840240      0.101879  0.728734       0.471060   \n",
       "support    140530.000000  53678.000000  0.728734  194208.000000   \n",
       "\n",
       "            weighted avg classifier  \n",
       "precision       0.695604         gb  \n",
       "recall          0.728734         gb  \n",
       "f1-score        0.636161         gb  \n",
       "support    194208.000000         gb  "
      ]
     },
     "execution_count": 14,
     "metadata": {},
     "output_type": "execute_result"
    }
   ],
   "source": [
    "#Instaniate GBoost Classifier\n",
    "gb = GradientBoostingClassifier(learning_rate = 0.1, n_estimators = 100)\n",
    "\n",
    "#fit_score_classifier function to fit and score the GradientBoostingClassifier\n",
    "gb_report = fit_score_classifier(gb, X_train, y_train, X_test, y_test, name = 'gb')\n",
    "gb_report.head()"
   ]
  },
  {
   "cell_type": "code",
   "execution_count": 15,
   "id": "b62cd831",
   "metadata": {
    "ExecuteTime": {
     "end_time": "2024-03-27T19:45:08.679758Z",
     "start_time": "2024-03-27T19:45:08.198612Z"
    }
   },
   "outputs": [],
   "source": [
    "# Modify ROC and precision-recall curve dictionaries for GBTree\n",
    "update_roc_dict(clf = gb , y_test = y_test, X_test = X_test, name='GB', dict_modify = roc_dict)\n",
    "update_prc_dict(clf = gb , y_test = y_test, X_test = X_test, name='GB', dict_modify = prc_dict)"
   ]
  },
  {
   "cell_type": "markdown",
   "id": "23dc3743",
   "metadata": {},
   "source": [
    "# Random Forest Classifier."
   ]
  },
  {
   "cell_type": "code",
   "execution_count": 16,
   "id": "94bce513",
   "metadata": {
    "ExecuteTime": {
     "end_time": "2024-03-27T19:45:52.730607Z",
     "start_time": "2024-03-27T19:45:08.680618Z"
    }
   },
   "outputs": [
    {
     "data": {
      "text/html": [
       "<div>\n",
       "<style scoped>\n",
       "    .dataframe tbody tr th:only-of-type {\n",
       "        vertical-align: middle;\n",
       "    }\n",
       "\n",
       "    .dataframe tbody tr th {\n",
       "        vertical-align: top;\n",
       "    }\n",
       "\n",
       "    .dataframe thead th {\n",
       "        text-align: right;\n",
       "    }\n",
       "</style>\n",
       "<table border=\"1\" class=\"dataframe\">\n",
       "  <thead>\n",
       "    <tr style=\"text-align: right;\">\n",
       "      <th></th>\n",
       "      <th>0</th>\n",
       "      <th>1</th>\n",
       "      <th>accuracy</th>\n",
       "      <th>macro avg</th>\n",
       "      <th>weighted avg</th>\n",
       "      <th>classifier</th>\n",
       "    </tr>\n",
       "  </thead>\n",
       "  <tbody>\n",
       "    <tr>\n",
       "      <th>precision</th>\n",
       "      <td>0.736770</td>\n",
       "      <td>0.564296</td>\n",
       "      <td>0.729228</td>\n",
       "      <td>0.650533</td>\n",
       "      <td>0.689099</td>\n",
       "      <td>rf</td>\n",
       "    </tr>\n",
       "    <tr>\n",
       "      <th>recall</th>\n",
       "      <td>0.973671</td>\n",
       "      <td>0.089273</td>\n",
       "      <td>0.729228</td>\n",
       "      <td>0.531472</td>\n",
       "      <td>0.729228</td>\n",
       "      <td>rf</td>\n",
       "    </tr>\n",
       "    <tr>\n",
       "      <th>f1-score</th>\n",
       "      <td>0.838815</td>\n",
       "      <td>0.154158</td>\n",
       "      <td>0.729228</td>\n",
       "      <td>0.496486</td>\n",
       "      <td>0.649580</td>\n",
       "      <td>rf</td>\n",
       "    </tr>\n",
       "    <tr>\n",
       "      <th>support</th>\n",
       "      <td>140530.000000</td>\n",
       "      <td>53678.000000</td>\n",
       "      <td>0.729228</td>\n",
       "      <td>194208.000000</td>\n",
       "      <td>194208.000000</td>\n",
       "      <td>rf</td>\n",
       "    </tr>\n",
       "  </tbody>\n",
       "</table>\n",
       "</div>"
      ],
      "text/plain": [
       "                       0             1  accuracy      macro avg  \\\n",
       "precision       0.736770      0.564296  0.729228       0.650533   \n",
       "recall          0.973671      0.089273  0.729228       0.531472   \n",
       "f1-score        0.838815      0.154158  0.729228       0.496486   \n",
       "support    140530.000000  53678.000000  0.729228  194208.000000   \n",
       "\n",
       "            weighted avg classifier  \n",
       "precision       0.689099         rf  \n",
       "recall          0.729228         rf  \n",
       "f1-score        0.649580         rf  \n",
       "support    194208.000000         rf  "
      ]
     },
     "execution_count": 16,
     "metadata": {},
     "output_type": "execute_result"
    }
   ],
   "source": [
    "#Instaniate RandomForest Classifier\n",
    "rf = RandomForestClassifier(n_estimators=100, n_jobs=-1)\n",
    "\n",
    "#function to fit and score the random forest classifier\n",
    "rf_report = fit_score_classifier(rf, X_train, y_train, X_test, y_test, name='rf')\n",
    "rf_report.head()"
   ]
  },
  {
   "cell_type": "code",
   "execution_count": 17,
   "id": "4a6f56c8",
   "metadata": {
    "ExecuteTime": {
     "end_time": "2024-03-27T19:45:54.325980Z",
     "start_time": "2024-03-27T19:45:52.731782Z"
    }
   },
   "outputs": [],
   "source": [
    "# Modify ROC and precision-recall curve dictionaries for RFClassifier\n",
    "update_roc_dict(clf = rf , y_test = y_test, X_test = X_test, name='RandomForest', dict_modify = roc_dict)\n",
    "update_prc_dict(clf = rf , y_test = y_test, X_test = X_test, name='RandomForest', dict_modify = prc_dict)"
   ]
  },
  {
   "cell_type": "markdown",
   "id": "a0d39bca",
   "metadata": {},
   "source": [
    "# XGBoost Classifier"
   ]
  },
  {
   "cell_type": "code",
   "execution_count": 18,
   "id": "13cb786d",
   "metadata": {
    "ExecuteTime": {
     "end_time": "2024-03-27T19:45:57.556269Z",
     "start_time": "2024-03-27T19:45:54.326701Z"
    }
   },
   "outputs": [
    {
     "data": {
      "text/html": [
       "<div>\n",
       "<style scoped>\n",
       "    .dataframe tbody tr th:only-of-type {\n",
       "        vertical-align: middle;\n",
       "    }\n",
       "\n",
       "    .dataframe tbody tr th {\n",
       "        vertical-align: top;\n",
       "    }\n",
       "\n",
       "    .dataframe thead th {\n",
       "        text-align: right;\n",
       "    }\n",
       "</style>\n",
       "<table border=\"1\" class=\"dataframe\">\n",
       "  <thead>\n",
       "    <tr style=\"text-align: right;\">\n",
       "      <th></th>\n",
       "      <th>0</th>\n",
       "      <th>1</th>\n",
       "      <th>accuracy</th>\n",
       "      <th>macro avg</th>\n",
       "      <th>weighted avg</th>\n",
       "      <th>classifier</th>\n",
       "    </tr>\n",
       "  </thead>\n",
       "  <tbody>\n",
       "    <tr>\n",
       "      <th>precision</th>\n",
       "      <td>0.740105</td>\n",
       "      <td>0.560804</td>\n",
       "      <td>0.730274</td>\n",
       "      <td>0.650455</td>\n",
       "      <td>0.690547</td>\n",
       "      <td>xgb</td>\n",
       "    </tr>\n",
       "    <tr>\n",
       "      <th>recall</th>\n",
       "      <td>0.966719</td>\n",
       "      <td>0.111256</td>\n",
       "      <td>0.730274</td>\n",
       "      <td>0.538987</td>\n",
       "      <td>0.730274</td>\n",
       "      <td>xgb</td>\n",
       "    </tr>\n",
       "    <tr>\n",
       "      <th>f1-score</th>\n",
       "      <td>0.838368</td>\n",
       "      <td>0.185676</td>\n",
       "      <td>0.730274</td>\n",
       "      <td>0.512022</td>\n",
       "      <td>0.657968</td>\n",
       "      <td>xgb</td>\n",
       "    </tr>\n",
       "    <tr>\n",
       "      <th>support</th>\n",
       "      <td>140530.000000</td>\n",
       "      <td>53678.000000</td>\n",
       "      <td>0.730274</td>\n",
       "      <td>194208.000000</td>\n",
       "      <td>194208.000000</td>\n",
       "      <td>xgb</td>\n",
       "    </tr>\n",
       "  </tbody>\n",
       "</table>\n",
       "</div>"
      ],
      "text/plain": [
       "                       0             1  accuracy      macro avg  \\\n",
       "precision       0.740105      0.560804  0.730274       0.650455   \n",
       "recall          0.966719      0.111256  0.730274       0.538987   \n",
       "f1-score        0.838368      0.185676  0.730274       0.512022   \n",
       "support    140530.000000  53678.000000  0.730274  194208.000000   \n",
       "\n",
       "            weighted avg classifier  \n",
       "precision       0.690547        xgb  \n",
       "recall          0.730274        xgb  \n",
       "f1-score        0.657968        xgb  \n",
       "support    194208.000000        xgb  "
      ]
     },
     "execution_count": 18,
     "metadata": {},
     "output_type": "execute_result"
    }
   ],
   "source": [
    "#Instaniate XGBoost Classifier\n",
    "xgb_classifier = xgb.XGBClassifier(n_estimators=300, subsample=0.9, n_jobs=-1)\n",
    "\n",
    "#function to fit and score the XGBoost classifier\n",
    "xgb_report = fit_score_classifier(xgb_classifier, X_train, y_train, X_test, y_test, name='xgb')\n",
    "xgb_report.head()"
   ]
  },
  {
   "cell_type": "code",
   "execution_count": 19,
   "id": "eac365b8",
   "metadata": {
    "ExecuteTime": {
     "end_time": "2024-03-27T19:45:57.805894Z",
     "start_time": "2024-03-27T19:45:57.557340Z"
    }
   },
   "outputs": [],
   "source": [
    "# Modify ROC and precision-recall curve dictionaries for RFClassifier\n",
    "update_roc_dict(clf = xgb_classifier , y_test = y_test, X_test = X_test, name='XGBoost', dict_modify = roc_dict)\n",
    "update_prc_dict(clf = xgb_classifier , y_test = y_test, X_test = X_test, name='XGBoost', dict_modify = prc_dict)"
   ]
  },
  {
   "cell_type": "code",
   "execution_count": 20,
   "id": "1804ae82",
   "metadata": {
    "ExecuteTime": {
     "end_time": "2024-03-27T19:45:57.809143Z",
     "start_time": "2024-03-27T19:45:57.806916Z"
    }
   },
   "outputs": [
    {
     "name": "stdout",
     "output_type": "stream",
     "text": [
      "Feature Importances: [0.10927077 0.44272777 0.05488997 0.0323217  0.03542374 0.04957719\n",
      " 0.03126478 0.04299391 0.03011177 0.03477827 0.04476326 0.0459623\n",
      " 0.04591458]\n",
      "Classes: [0 1]\n"
     ]
    }
   ],
   "source": [
    "print(\"Feature Importances:\", xgb_classifier.feature_importances_)\n",
    "print(\"Classes:\", xgb_classifier.classes_)"
   ]
  },
  {
   "cell_type": "markdown",
   "id": "7f1a48c5",
   "metadata": {},
   "source": [
    "# Support Vector Classifier"
   ]
  },
  {
   "cell_type": "code",
   "execution_count": 21,
   "id": "719fe872",
   "metadata": {
    "ExecuteTime": {
     "end_time": "2024-03-27T19:52:17.193655Z",
     "start_time": "2024-03-27T19:45:57.809835Z"
    }
   },
   "outputs": [
    {
     "name": "stderr",
     "output_type": "stream",
     "text": [
      "Solver terminated early (max_iter=400).  Consider pre-processing your data with StandardScaler or MinMaxScaler.\n"
     ]
    },
    {
     "data": {
      "text/html": [
       "<div>\n",
       "<style scoped>\n",
       "    .dataframe tbody tr th:only-of-type {\n",
       "        vertical-align: middle;\n",
       "    }\n",
       "\n",
       "    .dataframe tbody tr th {\n",
       "        vertical-align: top;\n",
       "    }\n",
       "\n",
       "    .dataframe thead th {\n",
       "        text-align: right;\n",
       "    }\n",
       "</style>\n",
       "<table border=\"1\" class=\"dataframe\">\n",
       "  <thead>\n",
       "    <tr style=\"text-align: right;\">\n",
       "      <th></th>\n",
       "      <th>0</th>\n",
       "      <th>1</th>\n",
       "      <th>accuracy</th>\n",
       "      <th>macro avg</th>\n",
       "      <th>weighted avg</th>\n",
       "      <th>classifier</th>\n",
       "    </tr>\n",
       "  </thead>\n",
       "  <tbody>\n",
       "    <tr>\n",
       "      <th>precision</th>\n",
       "      <td>0.721891</td>\n",
       "      <td>0.257365</td>\n",
       "      <td>0.683489</td>\n",
       "      <td>0.489628</td>\n",
       "      <td>0.593499</td>\n",
       "      <td>svc</td>\n",
       "    </tr>\n",
       "    <tr>\n",
       "      <th>recall</th>\n",
       "      <td>0.915157</td>\n",
       "      <td>0.076978</td>\n",
       "      <td>0.683489</td>\n",
       "      <td>0.496067</td>\n",
       "      <td>0.683489</td>\n",
       "      <td>svc</td>\n",
       "    </tr>\n",
       "    <tr>\n",
       "      <th>f1-score</th>\n",
       "      <td>0.807116</td>\n",
       "      <td>0.118509</td>\n",
       "      <td>0.683489</td>\n",
       "      <td>0.462812</td>\n",
       "      <td>0.616789</td>\n",
       "      <td>svc</td>\n",
       "    </tr>\n",
       "    <tr>\n",
       "      <th>support</th>\n",
       "      <td>140530.000000</td>\n",
       "      <td>53678.000000</td>\n",
       "      <td>0.683489</td>\n",
       "      <td>194208.000000</td>\n",
       "      <td>194208.000000</td>\n",
       "      <td>svc</td>\n",
       "    </tr>\n",
       "  </tbody>\n",
       "</table>\n",
       "</div>"
      ],
      "text/plain": [
       "                       0             1  accuracy      macro avg  \\\n",
       "precision       0.721891      0.257365  0.683489       0.489628   \n",
       "recall          0.915157      0.076978  0.683489       0.496067   \n",
       "f1-score        0.807116      0.118509  0.683489       0.462812   \n",
       "support    140530.000000  53678.000000  0.683489  194208.000000   \n",
       "\n",
       "            weighted avg classifier  \n",
       "precision       0.593499        svc  \n",
       "recall          0.683489        svc  \n",
       "f1-score        0.616789        svc  \n",
       "support    194208.000000        svc  "
      ]
     },
     "execution_count": 21,
     "metadata": {},
     "output_type": "execute_result"
    }
   ],
   "source": [
    "# Instantiate the SVC classifier with a hard limit on iterations\n",
    "svc_pipeline = make_pipeline(StandardScaler(), SVC(C=1.0, kernel='rbf', gamma='auto', probability=True, max_iter=400))\n",
    "    \n",
    "#function to fit and score the SVC classifier\n",
    "svc_report = fit_score_classifier(svc_pipeline, X_train, y_train, X_test, y_test, name='svc')\n",
    "svc_report.head()"
   ]
  },
  {
   "cell_type": "code",
   "execution_count": 22,
   "id": "46dbc0de",
   "metadata": {
    "ExecuteTime": {
     "end_time": "2024-03-27T19:52:26.257922Z",
     "start_time": "2024-03-27T19:52:17.194947Z"
    }
   },
   "outputs": [],
   "source": [
    "# Modify ROC and precision-recall curve dictionaries for Support Vector Classifier\n",
    "update_roc_dict(clf = svc_pipeline , y_test = y_test, X_test = X_test, name='SVC', dict_modify = roc_dict)\n",
    "update_prc_dict(clf = svc_pipeline , y_test = y_test, X_test = X_test, name='SVC', dict_modify = prc_dict)"
   ]
  },
  {
   "cell_type": "markdown",
   "id": "4388bde5",
   "metadata": {},
   "source": [
    "# KNearestNeighbors Classifier"
   ]
  },
  {
   "cell_type": "code",
   "execution_count": 23,
   "id": "a6ef4bf6",
   "metadata": {
    "ExecuteTime": {
     "end_time": "2024-03-27T19:53:05.211981Z",
     "start_time": "2024-03-27T19:52:26.258854Z"
    }
   },
   "outputs": [
    {
     "data": {
      "text/html": [
       "<div>\n",
       "<style scoped>\n",
       "    .dataframe tbody tr th:only-of-type {\n",
       "        vertical-align: middle;\n",
       "    }\n",
       "\n",
       "    .dataframe tbody tr th {\n",
       "        vertical-align: top;\n",
       "    }\n",
       "\n",
       "    .dataframe thead th {\n",
       "        text-align: right;\n",
       "    }\n",
       "</style>\n",
       "<table border=\"1\" class=\"dataframe\">\n",
       "  <thead>\n",
       "    <tr style=\"text-align: right;\">\n",
       "      <th></th>\n",
       "      <th>0</th>\n",
       "      <th>1</th>\n",
       "      <th>accuracy</th>\n",
       "      <th>macro avg</th>\n",
       "      <th>weighted avg</th>\n",
       "      <th>classifier</th>\n",
       "    </tr>\n",
       "  </thead>\n",
       "  <tbody>\n",
       "    <tr>\n",
       "      <th>precision</th>\n",
       "      <td>0.742678</td>\n",
       "      <td>0.444647</td>\n",
       "      <td>0.712334</td>\n",
       "      <td>0.593662</td>\n",
       "      <td>0.660304</td>\n",
       "      <td>KNN</td>\n",
       "    </tr>\n",
       "    <tr>\n",
       "      <th>recall</th>\n",
       "      <td>0.921860</td>\n",
       "      <td>0.163791</td>\n",
       "      <td>0.712334</td>\n",
       "      <td>0.542826</td>\n",
       "      <td>0.712334</td>\n",
       "      <td>KNN</td>\n",
       "    </tr>\n",
       "    <tr>\n",
       "      <th>f1-score</th>\n",
       "      <td>0.822625</td>\n",
       "      <td>0.239398</td>\n",
       "      <td>0.712334</td>\n",
       "      <td>0.531011</td>\n",
       "      <td>0.661424</td>\n",
       "      <td>KNN</td>\n",
       "    </tr>\n",
       "    <tr>\n",
       "      <th>support</th>\n",
       "      <td>140530.000000</td>\n",
       "      <td>53678.000000</td>\n",
       "      <td>0.712334</td>\n",
       "      <td>194208.000000</td>\n",
       "      <td>194208.000000</td>\n",
       "      <td>KNN</td>\n",
       "    </tr>\n",
       "  </tbody>\n",
       "</table>\n",
       "</div>"
      ],
      "text/plain": [
       "                       0             1  accuracy      macro avg  \\\n",
       "precision       0.742678      0.444647  0.712334       0.593662   \n",
       "recall          0.921860      0.163791  0.712334       0.542826   \n",
       "f1-score        0.822625      0.239398  0.712334       0.531011   \n",
       "support    140530.000000  53678.000000  0.712334  194208.000000   \n",
       "\n",
       "            weighted avg classifier  \n",
       "precision       0.660304        KNN  \n",
       "recall          0.712334        KNN  \n",
       "f1-score        0.661424        KNN  \n",
       "support    194208.000000        KNN  "
      ]
     },
     "execution_count": 23,
     "metadata": {},
     "output_type": "execute_result"
    }
   ],
   "source": [
    "# Instantiate the KNN classifier \n",
    "knn = KNeighborsClassifier(n_neighbors = 5, n_jobs = -1)\n",
    "\n",
    "#function to fit and score the KNN classifier\n",
    "knn_report = fit_score_classifier(knn, X_train, y_train, X_test, y_test, name='KNN')\n",
    "knn_report.head()"
   ]
  },
  {
   "cell_type": "code",
   "execution_count": 24,
   "id": "45e7e3c5",
   "metadata": {
    "ExecuteTime": {
     "end_time": "2024-03-27T19:54:16.751895Z",
     "start_time": "2024-03-27T19:53:05.212760Z"
    }
   },
   "outputs": [],
   "source": [
    "# Modify ROC and precision-recall curve dictionaries for KNearestNeighbors Classifier\n",
    "update_roc_dict(clf = knn , y_test = y_test, X_test = X_test, name='KNN', dict_modify = roc_dict)\n",
    "update_prc_dict(clf = knn , y_test = y_test, X_test = X_test, name='KNN', dict_modify = prc_dict)"
   ]
  },
  {
   "cell_type": "markdown",
   "id": "b1aa100f",
   "metadata": {},
   "source": [
    "# Check Keys"
   ]
  },
  {
   "cell_type": "code",
   "execution_count": 25,
   "id": "44103e1a",
   "metadata": {
    "ExecuteTime": {
     "end_time": "2024-03-27T19:54:16.754838Z",
     "start_time": "2024-03-27T19:54:16.752848Z"
    }
   },
   "outputs": [
    {
     "data": {
      "text/plain": [
       "dict_keys(['Logistic Regression', 'GB', 'RandomForest', 'XGBoost', 'SVC', 'KNN'])"
      ]
     },
     "execution_count": 25,
     "metadata": {},
     "output_type": "execute_result"
    }
   ],
   "source": [
    "roc_dict.keys()"
   ]
  },
  {
   "cell_type": "markdown",
   "id": "d56f6f40",
   "metadata": {},
   "source": [
    "# Plot Models"
   ]
  },
  {
   "cell_type": "code",
   "execution_count": 26,
   "id": "b1124ca9",
   "metadata": {
    "ExecuteTime": {
     "end_time": "2024-03-27T19:54:17.110955Z",
     "start_time": "2024-03-27T19:54:16.755559Z"
    }
   },
   "outputs": [
    {
     "data": {
      "image/png": "[encoded data removed]",
      "text/plain": [
       "<Figure size 1600x800 with 1 Axes>"
      ]
     },
     "metadata": {},
     "output_type": "display_data"
    }
   ],
   "source": [
    "#ROC Curve\n",
    "plt.figure(figsize=(16, 8))\n",
    "\n",
    "# Iterate over keys and values in roc_dict\n",
    "for key, clf in roc_dict.items():\n",
    "    plt.plot(clf['fpr'], clf['tpr'], label=key)\n",
    "\n",
    "# Plot settings\n",
    "plt.xlabel(\"FPR\")\n",
    "plt.ylabel(\"TPR\")\n",
    "plt.title(\"ROC\")\n",
    "plt.plot([0,1], [0,1], label='No Discrimination', linestyle='-', dashes=(5, 5))\n",
    "plt.legend()\n",
    "\n",
    "# Save and display the plot\n",
    "plt.savefig(os.path.join(\"/Users/rolex/Desktop/IGP/Project/plots/roc_curve_indv_models.png\"))\n",
    "plt.legend()\n",
    "plt.show()\n"
   ]
  },
  {
   "cell_type": "code",
   "execution_count": 27,
   "id": "4bdae2c1",
   "metadata": {
    "ExecuteTime": {
     "end_time": "2024-03-27T19:54:17.601587Z",
     "start_time": "2024-03-27T19:54:17.111822Z"
    }
   },
   "outputs": [
    {
     "data": {
      "image/png": "[encoded data removed]",
      "text/plain": [
       "<Figure size 1600x800 with 1 Axes>"
      ]
     },
     "metadata": {},
     "output_type": "display_data"
    }
   ],
   "source": [
    "#Precision Recall Curve\n",
    "plt.figure(figsize=(16, 8))\n",
    "\n",
    "# Iterate over keys and values in prc_dict\n",
    "for key, clf in prc_dict.items():\n",
    "    plt.plot(clf['precision'], clf['recall'], label=key)\n",
    "\n",
    "# Plot settings\n",
    "plt.xlabel(\"Precision\")\n",
    "plt.ylabel(\"Recall\")\n",
    "plt.title(\"Precision Recall Curve\")\n",
    "plt.legend()\n",
    "\n",
    "# Save and display the plot\n",
    "plt.savefig(os.path.join(\"/Users/rolex/Desktop/IGP/Project/plots/prc_curve_indv_models.png\"))\n",
    "plt.legend()\n",
    "plt.show()"
   ]
  },
  {
   "cell_type": "markdown",
   "id": "c5614f9c",
   "metadata": {},
   "source": [
    "# Calculate the class imbalance ratio"
   ]
  },
  {
   "cell_type": "code",
   "execution_count": 28,
   "id": "065f8915",
   "metadata": {
    "ExecuteTime": {
     "end_time": "2024-03-27T19:55:06.837229Z",
     "start_time": "2024-03-27T19:54:17.605256Z"
    }
   },
   "outputs": [
    {
     "name": "stdout",
     "output_type": "stream",
     "text": [
      "Imbalance class ratio: 3.973\n"
     ]
    },
    {
     "data": {
      "text/html": [
       "<style>#sk-container-id-1 {\n",
       "  /* Definition of color scheme common for light and dark mode */\n",
       "  --sklearn-color-text: black;\n",
       "  --sklearn-color-line: gray;\n",
       "  /* Definition of color scheme for unfitted estimators */\n",
       "  --sklearn-color-unfitted-level-0: #fff5e6;\n",
       "  --sklearn-color-unfitted-level-1: #f6e4d2;\n",
       "  --sklearn-color-unfitted-level-2: #ffe0b3;\n",
       "  --sklearn-color-unfitted-level-3: chocolate;\n",
       "  /* Definition of color scheme for fitted estimators */\n",
       "  --sklearn-color-fitted-level-0: #f0f8ff;\n",
       "  --sklearn-color-fitted-level-1: #d4ebff;\n",
       "  --sklearn-color-fitted-level-2: #b3dbfd;\n",
       "  --sklearn-color-fitted-level-3: cornflowerblue;\n",
       "\n",
       "  /* Specific color for light theme */\n",
       "  --sklearn-color-text-on-default-background: var(--sg-text-color, var(--theme-code-foreground, var(--jp-content-font-color1, black)));\n",
       "  --sklearn-color-background: var(--sg-background-color, var(--theme-background, var(--jp-layout-color0, white)));\n",
       "  --sklearn-color-border-box: var(--sg-text-color, var(--theme-code-foreground, var(--jp-content-font-color1, black)));\n",
       "  --sklearn-color-icon: #696969;\n",
       "\n",
       "  @media (prefers-color-scheme: dark) {\n",
       "    /* Redefinition of color scheme for dark theme */\n",
       "    --sklearn-color-text-on-default-background: var(--sg-text-color, var(--theme-code-foreground, var(--jp-content-font-color1, white)));\n",
       "    --sklearn-color-background: var(--sg-background-color, var(--theme-background, var(--jp-layout-color0, #111)));\n",
       "    --sklearn-color-border-box: var(--sg-text-color, var(--theme-code-foreground, var(--jp-content-font-color1, white)));\n",
       "    --sklearn-color-icon: #878787;\n",
       "  }\n",
       "}\n",
       "\n",
       "#sk-container-id-1 {\n",
       "  color: var(--sklearn-color-text);\n",
       "}\n",
       "\n",
       "#sk-container-id-1 pre {\n",
       "  padding: 0;\n",
       "}\n",
       "\n",
       "#sk-container-id-1 input.sk-hidden--visually {\n",
       "  border: 0;\n",
       "  clip: rect(1px 1px 1px 1px);\n",
       "  clip: rect(1px, 1px, 1px, 1px);\n",
       "  height: 1px;\n",
       "  margin: -1px;\n",
       "  overflow: hidden;\n",
       "  padding: 0;\n",
       "  position: absolute;\n",
       "  width: 1px;\n",
       "}\n",
       "\n",
       "#sk-container-id-1 div.sk-dashed-wrapped {\n",
       "  border: 1px dashed var(--sklearn-color-line);\n",
       "  margin: 0 0.4em 0.5em 0.4em;\n",
       "  box-sizing: border-box;\n",
       "  padding-bottom: 0.4em;\n",
       "  background-color: var(--sklearn-color-background);\n",
       "}\n",
       "\n",
       "#sk-container-id-1 div.sk-container {\n",
       "  /* jupyter's `normalize.less` sets `[hidden] { display: none; }`\n",
       "     but bootstrap.min.css set `[hidden] { display: none !important; }`\n",
       "     so we also need the `!important` here to be able to override the\n",
       "     default hidden behavior on the sphinx rendered scikit-learn.org.\n",
       "     See: https://github.com/scikit-learn/scikit-learn/issues/21755 */\n",
       "  display: inline-block !important;\n",
       "  position: relative;\n",
       "}\n",
       "\n",
       "#sk-container-id-1 div.sk-text-repr-fallback {\n",
       "  display: none;\n",
       "}\n",
       "\n",
       "div.sk-parallel-item,\n",
       "div.sk-serial,\n",
       "div.sk-item {\n",
       "  /* draw centered vertical line to link estimators */\n",
       "  background-image: linear-gradient(var(--sklearn-color-text-on-default-background), var(--sklearn-color-text-on-default-background));\n",
       "  background-size: 2px 100%;\n",
       "  background-repeat: no-repeat;\n",
       "  background-position: center center;\n",
       "}\n",
       "\n",
       "/* Parallel-specific style estimator block */\n",
       "\n",
       "#sk-container-id-1 div.sk-parallel-item::after {\n",
       "  content: \"\";\n",
       "  width: 100%;\n",
       "  border-bottom: 2px solid var(--sklearn-color-text-on-default-background);\n",
       "  flex-grow: 1;\n",
       "}\n",
       "\n",
       "#sk-container-id-1 div.sk-parallel {\n",
       "  display: flex;\n",
       "  align-items: stretch;\n",
       "  justify-content: center;\n",
       "  background-color: var(--sklearn-color-background);\n",
       "  position: relative;\n",
       "}\n",
       "\n",
       "#sk-container-id-1 div.sk-parallel-item {\n",
       "  display: flex;\n",
       "  flex-direction: column;\n",
       "}\n",
       "\n",
       "#sk-container-id-1 div.sk-parallel-item:first-child::after {\n",
       "  align-self: flex-end;\n",
       "  width: 50%;\n",
       "}\n",
       "\n",
       "#sk-container-id-1 div.sk-parallel-item:last-child::after {\n",
       "  align-self: flex-start;\n",
       "  width: 50%;\n",
       "}\n",
       "\n",
       "#sk-container-id-1 div.sk-parallel-item:only-child::after {\n",
       "  width: 0;\n",
       "}\n",
       "\n",
       "/* Serial-specific style estimator block */\n",
       "\n",
       "#sk-container-id-1 div.sk-serial {\n",
       "  display: flex;\n",
       "  flex-direction: column;\n",
       "  align-items: center;\n",
       "  background-color: var(--sklearn-color-background);\n",
       "  padding-right: 1em;\n",
       "  padding-left: 1em;\n",
       "}\n",
       "\n",
       "\n",
       "/* Toggleable style: style used for estimator/Pipeline/ColumnTransformer box that is\n",
       "clickable and can be expanded/collapsed.\n",
       "- Pipeline and ColumnTransformer use this feature and define the default style\n",
       "- Estimators will overwrite some part of the style using the `sk-estimator` class\n",
       "*/\n",
       "\n",
       "/* Pipeline and ColumnTransformer style (default) */\n",
       "\n",
       "#sk-container-id-1 div.sk-toggleable {\n",
       "  /* Default theme specific background. It is overwritten whether we have a\n",
       "  specific estimator or a Pipeline/ColumnTransformer */\n",
       "  background-color: var(--sklearn-color-background);\n",
       "}\n",
       "\n",
       "/* Toggleable label */\n",
       "#sk-container-id-1 label.sk-toggleable__label {\n",
       "  cursor: pointer;\n",
       "  display: block;\n",
       "  width: 100%;\n",
       "  margin-bottom: 0;\n",
       "  padding: 0.5em;\n",
       "  box-sizing: border-box;\n",
       "  text-align: center;\n",
       "}\n",
       "\n",
       "#sk-container-id-1 label.sk-toggleable__label-arrow:before {\n",
       "  /* Arrow on the left of the label */\n",
       "  content: \"▸\";\n",
       "  float: left;\n",
       "  margin-right: 0.25em;\n",
       "  color: var(--sklearn-color-icon);\n",
       "}\n",
       "\n",
       "#sk-container-id-1 label.sk-toggleable__label-arrow:hover:before {\n",
       "  color: var(--sklearn-color-text);\n",
       "}\n",
       "\n",
       "/* Toggleable content - dropdown */\n",
       "\n",
       "#sk-container-id-1 div.sk-toggleable__content {\n",
       "  max-height: 0;\n",
       "  max-width: 0;\n",
       "  overflow: hidden;\n",
       "  text-align: left;\n",
       "  /* unfitted */\n",
       "  background-color: var(--sklearn-color-unfitted-level-0);\n",
       "}\n",
       "\n",
       "#sk-container-id-1 div.sk-toggleable__content.fitted {\n",
       "  /* fitted */\n",
       "  background-color: var(--sklearn-color-fitted-level-0);\n",
       "}\n",
       "\n",
       "#sk-container-id-1 div.sk-toggleable__content pre {\n",
       "  margin: 0.2em;\n",
       "  border-radius: 0.25em;\n",
       "  color: var(--sklearn-color-text);\n",
       "  /* unfitted */\n",
       "  background-color: var(--sklearn-color-unfitted-level-0);\n",
       "}\n",
       "\n",
       "#sk-container-id-1 div.sk-toggleable__content.fitted pre {\n",
       "  /* unfitted */\n",
       "  background-color: var(--sklearn-color-fitted-level-0);\n",
       "}\n",
       "\n",
       "#sk-container-id-1 input.sk-toggleable__control:checked~div.sk-toggleable__content {\n",
       "  /* Expand drop-down */\n",
       "  max-height: 200px;\n",
       "  max-width: 100%;\n",
       "  overflow: auto;\n",
       "}\n",
       "\n",
       "#sk-container-id-1 input.sk-toggleable__control:checked~label.sk-toggleable__label-arrow:before {\n",
       "  content: \"▾\";\n",
       "}\n",
       "\n",
       "/* Pipeline/ColumnTransformer-specific style */\n",
       "\n",
       "#sk-container-id-1 div.sk-label input.sk-toggleable__control:checked~label.sk-toggleable__label {\n",
       "  color: var(--sklearn-color-text);\n",
       "  background-color: var(--sklearn-color-unfitted-level-2);\n",
       "}\n",
       "\n",
       "#sk-container-id-1 div.sk-label.fitted input.sk-toggleable__control:checked~label.sk-toggleable__label {\n",
       "  background-color: var(--sklearn-color-fitted-level-2);\n",
       "}\n",
       "\n",
       "/* Estimator-specific style */\n",
       "\n",
       "/* Colorize estimator box */\n",
       "#sk-container-id-1 div.sk-estimator input.sk-toggleable__control:checked~label.sk-toggleable__label {\n",
       "  /* unfitted */\n",
       "  background-color: var(--sklearn-color-unfitted-level-2);\n",
       "}\n",
       "\n",
       "#sk-container-id-1 div.sk-estimator.fitted input.sk-toggleable__control:checked~label.sk-toggleable__label {\n",
       "  /* fitted */\n",
       "  background-color: var(--sklearn-color-fitted-level-2);\n",
       "}\n",
       "\n",
       "#sk-container-id-1 div.sk-label label.sk-toggleable__label,\n",
       "#sk-container-id-1 div.sk-label label {\n",
       "  /* The background is the default theme color */\n",
       "  color: var(--sklearn-color-text-on-default-background);\n",
       "}\n",
       "\n",
       "/* On hover, darken the color of the background */\n",
       "#sk-container-id-1 div.sk-label:hover label.sk-toggleable__label {\n",
       "  color: var(--sklearn-color-text);\n",
       "  background-color: var(--sklearn-color-unfitted-level-2);\n",
       "}\n",
       "\n",
       "/* Label box, darken color on hover, fitted */\n",
       "#sk-container-id-1 div.sk-label.fitted:hover label.sk-toggleable__label.fitted {\n",
       "  color: var(--sklearn-color-text);\n",
       "  background-color: var(--sklearn-color-fitted-level-2);\n",
       "}\n",
       "\n",
       "/* Estimator label */\n",
       "\n",
       "#sk-container-id-1 div.sk-label label {\n",
       "  font-family: monospace;\n",
       "  font-weight: bold;\n",
       "  display: inline-block;\n",
       "  line-height: 1.2em;\n",
       "}\n",
       "\n",
       "#sk-container-id-1 div.sk-label-container {\n",
       "  text-align: center;\n",
       "}\n",
       "\n",
       "/* Estimator-specific */\n",
       "#sk-container-id-1 div.sk-estimator {\n",
       "  font-family: monospace;\n",
       "  border: 1px dotted var(--sklearn-color-border-box);\n",
       "  border-radius: 0.25em;\n",
       "  box-sizing: border-box;\n",
       "  margin-bottom: 0.5em;\n",
       "  /* unfitted */\n",
       "  background-color: var(--sklearn-color-unfitted-level-0);\n",
       "}\n",
       "\n",
       "#sk-container-id-1 div.sk-estimator.fitted {\n",
       "  /* fitted */\n",
       "  background-color: var(--sklearn-color-fitted-level-0);\n",
       "}\n",
       "\n",
       "/* on hover */\n",
       "#sk-container-id-1 div.sk-estimator:hover {\n",
       "  /* unfitted */\n",
       "  background-color: var(--sklearn-color-unfitted-level-2);\n",
       "}\n",
       "\n",
       "#sk-container-id-1 div.sk-estimator.fitted:hover {\n",
       "  /* fitted */\n",
       "  background-color: var(--sklearn-color-fitted-level-2);\n",
       "}\n",
       "\n",
       "/* Specification for estimator info (e.g. \"i\" and \"?\") */\n",
       "\n",
       "/* Common style for \"i\" and \"?\" */\n",
       "\n",
       ".sk-estimator-doc-link,\n",
       "a:link.sk-estimator-doc-link,\n",
       "a:visited.sk-estimator-doc-link {\n",
       "  float: right;\n",
       "  font-size: smaller;\n",
       "  line-height: 1em;\n",
       "  font-family: monospace;\n",
       "  background-color: var(--sklearn-color-background);\n",
       "  border-radius: 1em;\n",
       "  height: 1em;\n",
       "  width: 1em;\n",
       "  text-decoration: none !important;\n",
       "  margin-left: 1ex;\n",
       "  /* unfitted */\n",
       "  border: var(--sklearn-color-unfitted-level-1) 1pt solid;\n",
       "  color: var(--sklearn-color-unfitted-level-1);\n",
       "}\n",
       "\n",
       ".sk-estimator-doc-link.fitted,\n",
       "a:link.sk-estimator-doc-link.fitted,\n",
       "a:visited.sk-estimator-doc-link.fitted {\n",
       "  /* fitted */\n",
       "  border: var(--sklearn-color-fitted-level-1) 1pt solid;\n",
       "  color: var(--sklearn-color-fitted-level-1);\n",
       "}\n",
       "\n",
       "/* On hover */\n",
       "div.sk-estimator:hover .sk-estimator-doc-link:hover,\n",
       ".sk-estimator-doc-link:hover,\n",
       "div.sk-label-container:hover .sk-estimator-doc-link:hover,\n",
       ".sk-estimator-doc-link:hover {\n",
       "  /* unfitted */\n",
       "  background-color: var(--sklearn-color-unfitted-level-3);\n",
       "  color: var(--sklearn-color-background);\n",
       "  text-decoration: none;\n",
       "}\n",
       "\n",
       "div.sk-estimator.fitted:hover .sk-estimator-doc-link.fitted:hover,\n",
       ".sk-estimator-doc-link.fitted:hover,\n",
       "div.sk-label-container:hover .sk-estimator-doc-link.fitted:hover,\n",
       ".sk-estimator-doc-link.fitted:hover {\n",
       "  /* fitted */\n",
       "  background-color: var(--sklearn-color-fitted-level-3);\n",
       "  color: var(--sklearn-color-background);\n",
       "  text-decoration: none;\n",
       "}\n",
       "\n",
       "/* Span, style for the box shown on hovering the info icon */\n",
       ".sk-estimator-doc-link span {\n",
       "  display: none;\n",
       "  z-index: 9999;\n",
       "  position: relative;\n",
       "  font-weight: normal;\n",
       "  right: .2ex;\n",
       "  padding: .5ex;\n",
       "  margin: .5ex;\n",
       "  width: min-content;\n",
       "  min-width: 20ex;\n",
       "  max-width: 50ex;\n",
       "  color: var(--sklearn-color-text);\n",
       "  box-shadow: 2pt 2pt 4pt #999;\n",
       "  /* unfitted */\n",
       "  background: var(--sklearn-color-unfitted-level-0);\n",
       "  border: .5pt solid var(--sklearn-color-unfitted-level-3);\n",
       "}\n",
       "\n",
       ".sk-estimator-doc-link.fitted span {\n",
       "  /* fitted */\n",
       "  background: var(--sklearn-color-fitted-level-0);\n",
       "  border: var(--sklearn-color-fitted-level-3);\n",
       "}\n",
       "\n",
       ".sk-estimator-doc-link:hover span {\n",
       "  display: block;\n",
       "}\n",
       "\n",
       "/* \"?\"-specific style due to the `<a>` HTML tag */\n",
       "\n",
       "#sk-container-id-1 a.estimator_doc_link {\n",
       "  float: right;\n",
       "  font-size: 1rem;\n",
       "  line-height: 1em;\n",
       "  font-family: monospace;\n",
       "  background-color: var(--sklearn-color-background);\n",
       "  border-radius: 1rem;\n",
       "  height: 1rem;\n",
       "  width: 1rem;\n",
       "  text-decoration: none;\n",
       "  /* unfitted */\n",
       "  color: var(--sklearn-color-unfitted-level-1);\n",
       "  border: var(--sklearn-color-unfitted-level-1) 1pt solid;\n",
       "}\n",
       "\n",
       "#sk-container-id-1 a.estimator_doc_link.fitted {\n",
       "  /* fitted */\n",
       "  border: var(--sklearn-color-fitted-level-1) 1pt solid;\n",
       "  color: var(--sklearn-color-fitted-level-1);\n",
       "}\n",
       "\n",
       "/* On hover */\n",
       "#sk-container-id-1 a.estimator_doc_link:hover {\n",
       "  /* unfitted */\n",
       "  background-color: var(--sklearn-color-unfitted-level-3);\n",
       "  color: var(--sklearn-color-background);\n",
       "  text-decoration: none;\n",
       "}\n",
       "\n",
       "#sk-container-id-1 a.estimator_doc_link.fitted:hover {\n",
       "  /* fitted */\n",
       "  background-color: var(--sklearn-color-fitted-level-3);\n",
       "}\n",
       "</style><div id=\"sk-container-id-1\" class=\"sk-top-container\"><div class=\"sk-text-repr-fallback\"><pre>XGBClassifier(base_score=0.5, booster=&#x27;gbtree&#x27;, callbacks=None,\n",
       "              colsample_bylevel=1, colsample_bynode=1, colsample_bytree=1,\n",
       "              device=None, early_stopping_rounds=None, enable_categorical=False,\n",
       "              eval_metric=None, feature_types=None, gamma=0, grow_policy=None,\n",
       "              importance_type=&#x27;gain&#x27;, interaction_constraints=&#x27;&#x27;,\n",
       "              learning_rate=0.3, max_bin=None, max_cat_threshold=None,\n",
       "              max_cat_to_onehot=None, max_delta_step=0, max_depth=6,\n",
       "              max_leaves=None, min_child_weight=1, missing=nan,\n",
       "              monotone_constraints=&#x27;()&#x27;, multi_strategy=None, n_estimators=300,\n",
       "              n_jobs=-1, num_parallel_tree=1, random_state=0, ...)</pre><b>In a Jupyter environment, please rerun this cell to show the HTML representation or trust the notebook. <br />On GitHub, the HTML representation is unable to render, please try loading this page with nbviewer.org.</b></div><div class=\"sk-container\" hidden><div class=\"sk-item\"><div class=\"sk-estimator fitted sk-toggleable\"><input class=\"sk-toggleable__control sk-hidden--visually\" id=\"sk-estimator-id-1\" type=\"checkbox\" checked><label for=\"sk-estimator-id-1\" class=\"sk-toggleable__label fitted sk-toggleable__label-arrow fitted\">&nbsp;XGBClassifier<span class=\"sk-estimator-doc-link fitted\">i<span>Fitted</span></span></label><div class=\"sk-toggleable__content fitted\"><pre>XGBClassifier(base_score=0.5, booster=&#x27;gbtree&#x27;, callbacks=None,\n",
       "              colsample_bylevel=1, colsample_bynode=1, colsample_bytree=1,\n",
       "              device=None, early_stopping_rounds=None, enable_categorical=False,\n",
       "              eval_metric=None, feature_types=None, gamma=0, grow_policy=None,\n",
       "              importance_type=&#x27;gain&#x27;, interaction_constraints=&#x27;&#x27;,\n",
       "              learning_rate=0.3, max_bin=None, max_cat_threshold=None,\n",
       "              max_cat_to_onehot=None, max_delta_step=0, max_depth=6,\n",
       "              max_leaves=None, min_child_weight=1, missing=nan,\n",
       "              monotone_constraints=&#x27;()&#x27;, multi_strategy=None, n_estimators=300,\n",
       "              n_jobs=-1, num_parallel_tree=1, random_state=0, ...)</pre></div> </div></div></div></div>"
      ],
      "text/plain": [
       "XGBClassifier(base_score=0.5, booster='gbtree', callbacks=None,\n",
       "              colsample_bylevel=1, colsample_bynode=1, colsample_bytree=1,\n",
       "              device=None, early_stopping_rounds=None, enable_categorical=False,\n",
       "              eval_metric=None, feature_types=None, gamma=0, grow_policy=None,\n",
       "              importance_type='gain', interaction_constraints='',\n",
       "              learning_rate=0.3, max_bin=None, max_cat_threshold=None,\n",
       "              max_cat_to_onehot=None, max_delta_step=0, max_depth=6,\n",
       "              max_leaves=None, min_child_weight=1, missing=nan,\n",
       "              monotone_constraints='()', multi_strategy=None, n_estimators=300,\n",
       "              n_jobs=-1, num_parallel_tree=1, random_state=0, ...)"
      ]
     },
     "execution_count": 28,
     "metadata": {},
     "output_type": "execute_result"
    }
   ],
   "source": [
    "# Calculate class imbalance ratio\n",
    "class_counts = Counter(y_train)\n",
    "imbalance_ratio = class_counts[0] / class_counts[1]\n",
    "\n",
    "print('Imbalance class ratio: %.3f' % imbalance_ratio)\n",
    "\n",
    "# Instantiate XGBoost Classifier with scale_pos_weight\n",
    "xgb_classifier = xgb.XGBClassifier(\n",
    "    n_estimators=300,\n",
    "    subsample=0.9,\n",
    "    n_jobs=-1,\n",
    "    scale_pos_weight=imbalance_ratio,\n",
    "    base_score=0.5,\n",
    "    booster='gbtree',\n",
    "    colsample_bylevel=1,\n",
    "    colsample_bynode=1,\n",
    "    colsample_bytree=1,\n",
    "    gamma=0,\n",
    "    importance_type='gain',\n",
    "    interaction_constraints='',\n",
    "    learning_rate=0.3,\n",
    "    max_delta_step=0,\n",
    "    max_depth=6,\n",
    "    min_child_weight=1,\n",
    "    monotone_constraints='()',\n",
    "    num_parallel_tree=1,\n",
    "    objective='binary:logistic',\n",
    "    random_state=0,\n",
    "    reg_alpha=0,\n",
    "    reg_lambda=1,\n",
    "    tree_method='exact'\n",
    ")\n",
    "# Fit the XGBoost classifier to the data\n",
    "xgb_classifier.fit(X_train, y_train)\n"
   ]
  },
  {
   "cell_type": "markdown",
   "id": "7def1019",
   "metadata": {
    "ExecuteTime": {
     "end_time": "2024-03-11T09:26:59.610996Z",
     "start_time": "2024-03-11T09:26:57.561932Z"
    }
   },
   "source": [
    "# Store trained model for deployment"
   ]
  },
  {
   "cell_type": "code",
   "execution_count": 29,
   "id": "a8a92a39",
   "metadata": {
    "ExecuteTime": {
     "end_time": "2024-03-27T19:55:06.843503Z",
     "start_time": "2024-03-27T19:55:06.838061Z"
    }
   },
   "outputs": [
    {
     "name": "stdout",
     "output_type": "stream",
     "text": [
      "Saving model at: /Users/rolex/Desktop/IGP/Project/models/xgb_default_params.pkl\n"
     ]
    }
   ],
   "source": [
    "#directory to save the trained model\n",
    "save_model_dir = \"/Users/rolex/Desktop/IGP/Project/models/xgb_default_params.pkl\"\n",
    "print(\"Saving model at:\", save_model_dir)\n",
    "\n",
    "# Save the model\n",
    "with open(save_model_dir, 'wb') as file:\n",
    "    pickle.dump(gb, file, protocol=pickle.HIGHEST_PROTOCOL)"
   ]
  },
  {
   "cell_type": "markdown",
   "id": "8a4943cc",
   "metadata": {},
   "source": [
    "# Weighted Importance (\"Weight\" refers to how frequently a feature occurs inside a tree)"
   ]
  },
  {
   "cell_type": "code",
   "execution_count": 30,
   "id": "73f10f8b",
   "metadata": {
    "ExecuteTime": {
     "end_time": "2024-03-27T19:55:06.920418Z",
     "start_time": "2024-03-27T19:55:06.844334Z"
    }
   },
   "outputs": [
    {
     "data": {
      "text/plain": [
       "<Figure size 1600x800 with 0 Axes>"
      ]
     },
     "metadata": {},
     "output_type": "display_data"
    },
    {
     "data": {
      "image/png": "[encoded data removed]",
      "text/plain": [
       "<Figure size 640x480 with 1 Axes>"
      ]
     },
     "metadata": {},
     "output_type": "display_data"
    }
   ],
   "source": [
    "# importance type and max number of features\n",
    "importance_type = 'weight'\n",
    "max_num_features = 10\n",
    "\n",
    "# Plotting feature importance \n",
    "plt.figure(figsize=(16, 8))\n",
    "xgb.plot_importance(xgb_classifier, \n",
    "                    importance_type=importance_type,\n",
    "                    max_num_features=max_num_features, \n",
    "                    title='Feature Importance (importance_type=\"weighted\")')\n",
    "plt.tight_layout()\n",
    "plt.show()"
   ]
  },
  {
   "cell_type": "markdown",
   "id": "7412e511",
   "metadata": {},
   "source": [
    "# Gain importance (The average gain of splits using the feature is referred to as \"gain\")"
   ]
  },
  {
   "cell_type": "code",
   "execution_count": 31,
   "id": "98d33317",
   "metadata": {
    "ExecuteTime": {
     "end_time": "2024-03-27T19:55:06.985090Z",
     "start_time": "2024-03-27T19:55:06.921433Z"
    }
   },
   "outputs": [
    {
     "data": {
      "text/plain": [
       "<Figure size 1600x800 with 0 Axes>"
      ]
     },
     "metadata": {},
     "output_type": "display_data"
    },
    {
     "data": {
      "image/png": "[encoded data removed]",
      "text/plain": [
       "<Figure size 640x480 with 1 Axes>"
      ]
     },
     "metadata": {},
     "output_type": "display_data"
    }
   ],
   "source": [
    "# importance type and max number of features\n",
    "importance_type = 'gain'\n",
    "max_num_features = 6\n",
    "\n",
    "# Plotting feature importance \n",
    "plt.figure(figsize=(16, 8))\n",
    "xgb.plot_importance(xgb_classifier, \n",
    "                    importance_type=importance_type,\n",
    "                    max_num_features=max_num_features, \n",
    "                    title='Feature Importance (importance_type=\"gain\")')\n",
    "plt.tight_layout()\n",
    "plt.show()\n"
   ]
  },
  {
   "cell_type": "markdown",
   "id": "9ae6bbec",
   "metadata": {},
   "source": [
    "# Cover (\"cover\" denotes the mean coverage of splits utilizing the feature)"
   ]
  },
  {
   "cell_type": "code",
   "execution_count": 32,
   "id": "4dae0997",
   "metadata": {
    "ExecuteTime": {
     "end_time": "2024-03-27T19:55:07.045590Z",
     "start_time": "2024-03-27T19:55:06.985956Z"
    }
   },
   "outputs": [
    {
     "data": {
      "text/plain": [
       "<Figure size 1600x800 with 0 Axes>"
      ]
     },
     "metadata": {},
     "output_type": "display_data"
    },
    {
     "data": {
      "image/png": "[encoded data removed]",
      "text/plain": [
       "<Figure size 640x480 with 1 Axes>"
      ]
     },
     "metadata": {},
     "output_type": "display_data"
    }
   ],
   "source": [
    "# importance type and max number of features\n",
    "importance_type = 'cover'\n",
    "max_num_features = 5\n",
    "\n",
    "# Plotting feature importance \n",
    "plt.figure(figsize=(16, 8))\n",
    "xgb.plot_importance(xgb_classifier, \n",
    "                    importance_type=importance_type,\n",
    "                    max_num_features=max_num_features, \n",
    "                    title='Feature Importance (importance_type=\"cover\")')\n",
    "plt.tight_layout()\n",
    "plt.show()\n"
   ]
  },
  {
   "cell_type": "markdown",
   "id": "0e70f602",
   "metadata": {},
   "source": [
    "# Predicting labels and probabilities"
   ]
  },
  {
   "cell_type": "code",
   "execution_count": 33,
   "id": "de35dfcc",
   "metadata": {
    "ExecuteTime": {
     "end_time": "2024-03-27T19:55:07.228166Z",
     "start_time": "2024-03-27T19:55:07.046426Z"
    }
   },
   "outputs": [],
   "source": [
    "y_pred = xgb_classifier.predict(X_test)\n",
    "y_prob = xgb_classifier.predict_proba(X_test)[:, 1]  #Extracting probabilities for positive outcomes"
   ]
  },
  {
   "cell_type": "markdown",
   "id": "bb7295b7",
   "metadata": {},
   "source": [
    "# Confusion Matrix & Classification report."
   ]
  },
  {
   "cell_type": "code",
   "execution_count": 34,
   "id": "af3081cd",
   "metadata": {
    "ExecuteTime": {
     "end_time": "2024-03-27T19:55:07.408688Z",
     "start_time": "2024-03-27T19:55:07.229034Z"
    }
   },
   "outputs": [
    {
     "name": "stdout",
     "output_type": "stream",
     "text": [
      "[[91095 49435]\n",
      " [19296 34382]]\n",
      "              precision    recall  f1-score   support\n",
      "\n",
      "           0       0.83      0.65      0.73    140530\n",
      "           1       0.41      0.64      0.50     53678\n",
      "\n",
      "    accuracy                           0.65    194208\n",
      "   macro avg       0.62      0.64      0.61    194208\n",
      "weighted avg       0.71      0.65      0.66    194208\n",
      "\n"
     ]
    }
   ],
   "source": [
    "conf_matrix = metrics.confusion_matrix(y_test, y_pred)\n",
    "print(conf_matrix)\n",
    "\n",
    "# Printing classification report\n",
    "class_report = metrics.classification_report(y_test, y_pred)\n",
    "print(class_report)"
   ]
  },
  {
   "cell_type": "markdown",
   "id": "c2b6654d",
   "metadata": {},
   "source": [
    "# AUC Score"
   ]
  },
  {
   "cell_type": "code",
   "execution_count": 35,
   "id": "9d3bc198",
   "metadata": {
    "ExecuteTime": {
     "end_time": "2024-03-27T19:55:07.454858Z",
     "start_time": "2024-03-27T19:55:07.409678Z"
    }
   },
   "outputs": [
    {
     "name": "stdout",
     "output_type": "stream",
     "text": [
      "AUC: 0.699\n"
     ]
    }
   ],
   "source": [
    "area_under_curve = roc_auc_score(y_test, y_prob)\n",
    "print('AUC: %.3f' % area_under_curve)"
   ]
  },
  {
   "cell_type": "markdown",
   "id": "735df61c",
   "metadata": {
    "ExecuteTime": {
     "end_time": "2024-03-11T11:10:56.445211Z",
     "start_time": "2024-03-11T11:10:56.273748Z"
    }
   },
   "source": [
    "# Fico vs Sub-Grade"
   ]
  },
  {
   "cell_type": "code",
   "execution_count": 36,
   "id": "c2d9d0d1",
   "metadata": {
    "ExecuteTime": {
     "end_time": "2024-03-27T19:55:07.459958Z",
     "start_time": "2024-03-27T19:55:07.455825Z"
    }
   },
   "outputs": [
    {
     "data": {
      "text/html": [
       "<div>\n",
       "<style scoped>\n",
       "    .dataframe tbody tr th:only-of-type {\n",
       "        vertical-align: middle;\n",
       "    }\n",
       "\n",
       "    .dataframe tbody tr th {\n",
       "        vertical-align: top;\n",
       "    }\n",
       "\n",
       "    .dataframe thead th {\n",
       "        text-align: right;\n",
       "    }\n",
       "</style>\n",
       "<table border=\"1\" class=\"dataframe\">\n",
       "  <thead>\n",
       "    <tr style=\"text-align: right;\">\n",
       "      <th></th>\n",
       "      <th>sub_grade</th>\n",
       "      <th>score</th>\n",
       "      <th>value</th>\n",
       "    </tr>\n",
       "  </thead>\n",
       "  <tbody>\n",
       "    <tr>\n",
       "      <th>0</th>\n",
       "      <td>A1</td>\n",
       "      <td>789</td>\n",
       "      <td>34</td>\n",
       "    </tr>\n",
       "    <tr>\n",
       "      <th>1</th>\n",
       "      <td>A2</td>\n",
       "      <td>780</td>\n",
       "      <td>33</td>\n",
       "    </tr>\n",
       "    <tr>\n",
       "      <th>2</th>\n",
       "      <td>A3</td>\n",
       "      <td>769</td>\n",
       "      <td>32</td>\n",
       "    </tr>\n",
       "    <tr>\n",
       "      <th>3</th>\n",
       "      <td>A4</td>\n",
       "      <td>761</td>\n",
       "      <td>31</td>\n",
       "    </tr>\n",
       "    <tr>\n",
       "      <th>4</th>\n",
       "      <td>A5</td>\n",
       "      <td>741</td>\n",
       "      <td>30</td>\n",
       "    </tr>\n",
       "  </tbody>\n",
       "</table>\n",
       "</div>"
      ],
      "text/plain": [
       "  sub_grade  score   value\n",
       "0        A1     789     34\n",
       "1        A2     780     33\n",
       "2        A3     769     32\n",
       "3        A4     761     31\n",
       "4        A5     741     30"
      ]
     },
     "execution_count": 36,
     "metadata": {},
     "output_type": "execute_result"
    }
   ],
   "source": [
    "df_grade_fico = pd.read_csv('/Users/rolex/Desktop/IGP/Project/Data/sub_grade_fico.csv')\n",
    "df_grade_fico.head()"
   ]
  },
  {
   "cell_type": "code",
   "execution_count": 37,
   "id": "e44ceb43",
   "metadata": {
    "ExecuteTime": {
     "end_time": "2024-03-27T19:55:07.626391Z",
     "start_time": "2024-03-27T19:55:07.460714Z"
    }
   },
   "outputs": [
    {
     "data": {
      "image/png": "[encoded data removed]",
      "text/plain": [
       "<Figure size 1600x800 with 1 Axes>"
      ]
     },
     "metadata": {},
     "output_type": "display_data"
    }
   ],
   "source": [
    "fig, ax = plt.subplots(figsize=(16, 8))\n",
    "\n",
    "# Plot the data\n",
    "ax.plot(df_grade_fico['value'], df_grade_fico['score '], marker='x')\n",
    "\n",
    "# ticks and labels for x-axis\n",
    "ax.set_xticks(range(df_grade_fico.shape[0]))\n",
    "ax.set_xticklabels(df_grade_fico['sub_grade'][::-1], rotation='vertical')\n",
    "\n",
    "# labels and title\n",
    "ax.set_xlabel('Sub Grade')\n",
    "ax.set_ylabel('FICO Score')\n",
    "ax.set_title('FICO Versus Sub Grade Per SEC(Security & Exchange Commission) Filing')\n",
    "\n",
    "# Save and display the plot\n",
    "plt.savefig('/Users/rolex/Desktop/IGP/Project/plots/fico_grade_line.png')\n",
    "plt.show()"
   ]
  },
  {
   "cell_type": "markdown",
   "id": "9c7f70be",
   "metadata": {},
   "source": [
    "# KNearestNeighbors Regressor"
   ]
  },
  {
   "cell_type": "code",
   "execution_count": 38,
   "id": "8b9e7c09",
   "metadata": {
    "ExecuteTime": {
     "end_time": "2024-03-27T19:55:07.632738Z",
     "start_time": "2024-03-27T19:55:07.627234Z"
    }
   },
   "outputs": [
    {
     "name": "stdout",
     "output_type": "stream",
     "text": [
      "Prediction for FICO score 750: 30.0\n"
     ]
    }
   ],
   "source": [
    "# Instantiate KNN regressor\n",
    "knn = KNeighborsRegressor(n_neighbors=1)\n",
    "\n",
    "# Fitting the model to data\n",
    "X = df_grade_fico['score '].values.reshape(-1, 1)\n",
    "y = df_grade_fico['value']\n",
    "knn.fit(X, y)\n",
    "\n",
    "# sample prediction\n",
    "sample_score = 750\n",
    "sample_prediction = knn.predict([[sample_score]])[0]\n",
    "\n",
    "# Print the prediction\n",
    "print(\"Prediction for FICO score {}: {}\".format(sample_score, sample_prediction))\n"
   ]
  },
  {
   "cell_type": "markdown",
   "id": "b640f03e",
   "metadata": {},
   "source": [
    "## Save the KNN Regression model"
   ]
  },
  {
   "cell_type": "code",
   "execution_count": 39,
   "id": "1fc4c608",
   "metadata": {
    "ExecuteTime": {
     "end_time": "2024-03-27T19:55:07.635529Z",
     "start_time": "2024-03-27T19:55:07.633375Z"
    }
   },
   "outputs": [],
   "source": [
    "model_path = os.path.join('/Users/rolex/Desktop/IGP/Project/models/knn_regression.pkl')\n",
    "with open(model_path, 'wb') as file:\n",
    "    pickle.dump(knn, file)"
   ]
  },
  {
   "cell_type": "markdown",
   "id": "bf69ef80",
   "metadata": {},
   "source": [
    "# Sub-Grade to Annual Percentage Rate(APR)"
   ]
  },
  {
   "cell_type": "code",
   "execution_count": 40,
   "id": "761f2d91",
   "metadata": {
    "ExecuteTime": {
     "end_time": "2024-03-27T19:55:07.640340Z",
     "start_time": "2024-03-27T19:55:07.636283Z"
    }
   },
   "outputs": [
    {
     "data": {
      "text/html": [
       "<div>\n",
       "<style scoped>\n",
       "    .dataframe tbody tr th:only-of-type {\n",
       "        vertical-align: middle;\n",
       "    }\n",
       "\n",
       "    .dataframe tbody tr th {\n",
       "        vertical-align: top;\n",
       "    }\n",
       "\n",
       "    .dataframe thead th {\n",
       "        text-align: right;\n",
       "    }\n",
       "</style>\n",
       "<table border=\"1\" class=\"dataframe\">\n",
       "  <thead>\n",
       "    <tr style=\"text-align: right;\">\n",
       "      <th></th>\n",
       "      <th>grade_num</th>\n",
       "      <th>loan_grade</th>\n",
       "      <th>apr</th>\n",
       "      <th>36_mo</th>\n",
       "      <th>60_mo</th>\n",
       "    </tr>\n",
       "  </thead>\n",
       "  <tbody>\n",
       "    <tr>\n",
       "      <th>0</th>\n",
       "      <td>34</td>\n",
       "      <td>A1</td>\n",
       "      <td>6.03</td>\n",
       "      <td>6.78</td>\n",
       "      <td>7.30</td>\n",
       "    </tr>\n",
       "    <tr>\n",
       "      <th>1</th>\n",
       "      <td>33</td>\n",
       "      <td>A2</td>\n",
       "      <td>6.97</td>\n",
       "      <td>7.99</td>\n",
       "      <td>8.26</td>\n",
       "    </tr>\n",
       "    <tr>\n",
       "      <th>2</th>\n",
       "      <td>32</td>\n",
       "      <td>A3</td>\n",
       "      <td>7.62</td>\n",
       "      <td>8.99</td>\n",
       "      <td>8.91</td>\n",
       "    </tr>\n",
       "    <tr>\n",
       "      <th>3</th>\n",
       "      <td>31</td>\n",
       "      <td>A4</td>\n",
       "      <td>8.60</td>\n",
       "      <td>9.98</td>\n",
       "      <td>9.91</td>\n",
       "    </tr>\n",
       "    <tr>\n",
       "      <th>4</th>\n",
       "      <td>30</td>\n",
       "      <td>A5</td>\n",
       "      <td>9.25</td>\n",
       "      <td>10.99</td>\n",
       "      <td>10.56</td>\n",
       "    </tr>\n",
       "  </tbody>\n",
       "</table>\n",
       "</div>"
      ],
      "text/plain": [
       "   grade_num loan_grade   apr  36_mo  60_mo\n",
       "0         34         A1  6.03   6.78   7.30\n",
       "1         33         A2  6.97   7.99   8.26\n",
       "2         32         A3  7.62   8.99   8.91\n",
       "3         31         A4  8.60   9.98   9.91\n",
       "4         30         A5  9.25  10.99  10.56"
      ]
     },
     "execution_count": 40,
     "metadata": {},
     "output_type": "execute_result"
    }
   ],
   "source": [
    "df_apr = pd.read_csv('/Users/rolex/Desktop/IGP/Project/Data/sub_grade_apr.csv')\n",
    "df_apr.head()"
   ]
  },
  {
   "cell_type": "markdown",
   "id": "cbb5ea46",
   "metadata": {},
   "source": [
    "The formula to calculate APR is:\n",
    "\n",
    "    APR = (((Fees + Interest/Principal)/ n) * 365) * 100\n"
   ]
  },
  {
   "cell_type": "code",
   "execution_count": 41,
   "id": "bd2c6316",
   "metadata": {
    "ExecuteTime": {
     "end_time": "2024-03-27T19:55:07.643588Z",
     "start_time": "2024-03-27T19:55:07.641174Z"
    }
   },
   "outputs": [
    {
     "data": {
      "text/plain": [
       "4    10.99\n",
       "Name: 36_mo, dtype: float64"
      ]
     },
     "execution_count": 41,
     "metadata": {},
     "output_type": "execute_result"
    }
   ],
   "source": [
    "df_apr.loc[df_apr['grade_num'] == 30, '36_mo']"
   ]
  },
  {
   "cell_type": "markdown",
   "id": "dc404986",
   "metadata": {},
   "source": [
    "# Class Occurences & Confusion Matrix"
   ]
  },
  {
   "cell_type": "code",
   "execution_count": 42,
   "id": "9cc7dcd1",
   "metadata": {
    "ExecuteTime": {
     "end_time": "2024-03-27T19:55:11.001603Z",
     "start_time": "2024-03-27T19:55:07.644428Z"
    }
   },
   "outputs": [
    {
     "name": "stdout",
     "output_type": "stream",
     "text": [
      "Scale_pos_weight value: 3.973\n",
      "Confusion Matrix:\n",
      " [[91010 49520]\n",
      " [19256 34422]]\n"
     ]
    }
   ],
   "source": [
    "# Count class occurrences in the training set\n",
    "class_counter = Counter(y_train)\n",
    "\n",
    "# Calculate the scale_pos_weight value\n",
    "scale_pos_weight_value = class_counter[0] / class_counter[1]\n",
    "print('Scale_pos_weight value: %.3f' % scale_pos_weight_value)\n",
    "\n",
    "# Instantiate XGBoost classifier with specified parameters\n",
    "xgb_classifier = XGBClassifier(n_estimators=300,\n",
    "                    subsample=0.9,\n",
    "                    n_jobs=-1,\n",
    "                    scale_pos_weight=scale_pos_weight_value)\n",
    "\n",
    "# Fit the classifier to the training data\n",
    "xgb_classifier.fit(X_train, y_train)\n",
    "\n",
    "# Make predictions on the test data\n",
    "y_pred = xgb_classifier.predict(X_test)\n",
    "\n",
    "# Compute confusion matrix\n",
    "conf_matrix = confusion_matrix(y_test, y_pred)\n",
    "print('Confusion Matrix:\\n', conf_matrix)"
   ]
  },
  {
   "cell_type": "markdown",
   "id": "963af5e2",
   "metadata": {},
   "source": [
    "## Probabilities for the positive class"
   ]
  },
  {
   "cell_type": "code",
   "execution_count": 43,
   "id": "3bfed970",
   "metadata": {
    "ExecuteTime": {
     "end_time": "2024-03-27T19:55:11.125750Z",
     "start_time": "2024-03-27T19:55:11.002616Z"
    }
   },
   "outputs": [],
   "source": [
    "y_pred_prob = xgb_classifier.predict_proba(X_test)[:, 1] \n",
    "fpr, tpr, thresholds = roc_curve(y_test, y_pred_prob, pos_label=1)"
   ]
  },
  {
   "cell_type": "markdown",
   "id": "c368e631",
   "metadata": {},
   "source": [
    "# Cross-Validation Prediction"
   ]
  },
  {
   "cell_type": "code",
   "execution_count": 44,
   "id": "3255d9cf",
   "metadata": {
    "ExecuteTime": {
     "end_time": "2024-03-27T19:55:14.833767Z",
     "start_time": "2024-03-27T19:55:11.126576Z"
    }
   },
   "outputs": [],
   "source": [
    "y_scores = cross_val_predict(xgb_classifier, X_test, y_test, cv=5, method='predict_proba')\n",
    "\n",
    "# Extract positive class probabilities\n",
    "y_scores_pos = y_scores[:, 1]\n",
    "\n",
    "# Calculate precision, recall, and thresholds\n",
    "precision, recall, thresholds = precision_recall_curve(y_test, y_scores_pos, pos_label=1)\n"
   ]
  },
  {
   "cell_type": "markdown",
   "id": "11367eed",
   "metadata": {},
   "source": [
    "# ROC Curve for XGB"
   ]
  },
  {
   "cell_type": "code",
   "execution_count": 45,
   "id": "9908eb86",
   "metadata": {
    "ExecuteTime": {
     "end_time": "2024-03-27T19:55:14.939592Z",
     "start_time": "2024-03-27T19:55:14.834628Z"
    }
   },
   "outputs": [
    {
     "data": {
      "image/png": "[encoded data removed]",
      "text/plain": [
       "<Figure size 1600x800 with 1 Axes>"
      ]
     },
     "metadata": {},
     "output_type": "display_data"
    }
   ],
   "source": [
    "# Set the figure size\n",
    "plt.figure(figsize=(16, 8))\n",
    "\n",
    "# Plot the ROC curve for XGB\n",
    "plt.plot(fpr, tpr, label='XGB')\n",
    "\n",
    "# Plot the line of no discrimination\n",
    "plt.plot([0, 1], [0, 1], label='No Discrimination', linestyle='--')\n",
    "\n",
    "# Add labels and legend\n",
    "plt.xlabel('False Positive Rate')\n",
    "plt.ylabel('True Positive Rate')\n",
    "plt.title('ROC Curve')\n",
    "plt.legend()\n",
    "\n",
    "plt.show()"
   ]
  },
  {
   "cell_type": "markdown",
   "id": "eed29d17",
   "metadata": {},
   "source": [
    "# Predicted Probability for the positive class"
   ]
  },
  {
   "cell_type": "code",
   "execution_count": 46,
   "id": "dd40a16a",
   "metadata": {
    "ExecuteTime": {
     "end_time": "2024-03-27T19:55:15.077020Z",
     "start_time": "2024-03-27T19:55:14.940415Z"
    }
   },
   "outputs": [
    {
     "name": "stdout",
     "output_type": "stream",
     "text": [
      "xgb_auc: 0.6978593125601882\n"
     ]
    }
   ],
   "source": [
    "y_pred_prob_pos = xgb_classifier.predict_proba(X_test)[:, 1]\n",
    "\n",
    "# ROC AUC score\n",
    "xgb_auc = roc_auc_score(y_test, y_pred_prob_pos)\n",
    "\n",
    "print(\"xgb_auc: {}\".format(xgb_auc))"
   ]
  },
  {
   "cell_type": "markdown",
   "id": "abc1682e",
   "metadata": {},
   "source": [
    "# Predictions on test data"
   ]
  },
  {
   "cell_type": "code",
   "execution_count": 47,
   "id": "f933d8f4",
   "metadata": {
    "ExecuteTime": {
     "end_time": "2024-03-27T19:55:15.389664Z",
     "start_time": "2024-03-27T19:55:15.078081Z"
    }
   },
   "outputs": [
    {
     "name": "stdout",
     "output_type": "stream",
     "text": [
      "f1_xgb (binary): 0.5002470571137916\n",
      "\n",
      "              precision    recall  f1-score   support\n",
      "\n",
      "           0       0.83      0.65      0.73    140530\n",
      "           1       0.41      0.64      0.50     53678\n",
      "\n",
      "    accuracy                           0.65    194208\n",
      "   macro avg       0.62      0.64      0.61    194208\n",
      "weighted avg       0.71      0.65      0.66    194208\n",
      "\n"
     ]
    }
   ],
   "source": [
    "y_pred_xgb = xgb_classifier.predict(X_test)\n",
    "\n",
    "#F1 score\n",
    "f1_xgb = f1_score(y_test, y_pred_xgb)\n",
    "print(\"f1_xgb (binary): {}\\n\".format(f1_xgb))\n",
    "\n",
    "# classification report\n",
    "print(classification_report(y_test, y_pred_xgb))\n"
   ]
  },
  {
   "cell_type": "markdown",
   "id": "e543e435",
   "metadata": {},
   "source": [
    "# Store trained model"
   ]
  },
  {
   "cell_type": "code",
   "execution_count": 48,
   "id": "7a5fa8b5",
   "metadata": {
    "ExecuteTime": {
     "end_time": "2024-03-27T19:55:15.395382Z",
     "start_time": "2024-03-27T19:55:15.390613Z"
    }
   },
   "outputs": [
    {
     "name": "stdout",
     "output_type": "stream",
     "text": [
      "Saving model at: /Users/rolex/Desktop/IGP/Project/models/xgb_cv.pkl\n"
     ]
    }
   ],
   "source": [
    "#directory to save the trained model\n",
    "save_model_dir = \"/Users/rolex/Desktop/IGP/Project/models/xgb_cv.pkl\"\n",
    "print(\"Saving model at:\", save_model_dir)\n",
    "\n",
    "# Save the model\n",
    "with open(save_model_dir, 'wb') as file:\n",
    "    pickle.dump(gb, file, protocol=pickle.HIGHEST_PROTOCOL)"
   ]
  },
  {
   "cell_type": "markdown",
   "id": "da5f8520",
   "metadata": {},
   "source": [
    "# Input Data"
   ]
  },
  {
   "cell_type": "code",
   "execution_count": 118,
   "id": "7da9023c",
   "metadata": {
    "ExecuteTime": {
     "end_time": "2024-03-27T20:51:55.935994Z",
     "start_time": "2024-03-27T20:51:55.931138Z"
    }
   },
   "outputs": [],
   "source": [
    "#get input\n",
    "fico = 800\n",
    "loan_amnt = 1200\n",
    "term = '60 months'\n",
    "dti = 2\n",
    "home_ownership = 'rent'\n",
    "mort_acc = 5\n",
    "annual_inc = 50_000\n",
    "open_acc = 5\n",
    "employment = 'nurse'\n",
    "verification_status = 1\n",
    "revol_util = 60\n",
    "application_type = 0\n",
    "total_acc=1"
   ]
  },
  {
   "cell_type": "code",
   "execution_count": 119,
   "id": "8591f481",
   "metadata": {
    "ExecuteTime": {
     "end_time": "2024-03-27T20:51:57.046316Z",
     "start_time": "2024-03-27T20:51:57.034067Z"
    }
   },
   "outputs": [],
   "source": [
    "# Calculate sub_grade from FICO\n",
    "fico_score = 800\n",
    "sub_grade = knn.predict(np.array(fico_score).reshape(1, -1))[0]\n",
    "\n",
    "# Calculate grade\n",
    "grade = (sub_grade // 5) + 1\n",
    "\n",
    "# Get interest rate\n",
    "apr_roi = df_apr[df_apr['grade_num'] == sub_grade]"
   ]
  },
  {
   "cell_type": "code",
   "execution_count": 120,
   "id": "c94f0356",
   "metadata": {
    "ExecuteTime": {
     "end_time": "2024-03-27T20:51:58.026462Z",
     "start_time": "2024-03-27T20:51:58.015472Z"
    }
   },
   "outputs": [
    {
     "data": {
      "text/html": [
       "<div>\n",
       "<style scoped>\n",
       "    .dataframe tbody tr th:only-of-type {\n",
       "        vertical-align: middle;\n",
       "    }\n",
       "\n",
       "    .dataframe tbody tr th {\n",
       "        vertical-align: top;\n",
       "    }\n",
       "\n",
       "    .dataframe thead th {\n",
       "        text-align: right;\n",
       "    }\n",
       "</style>\n",
       "<table border=\"1\" class=\"dataframe\">\n",
       "  <thead>\n",
       "    <tr style=\"text-align: right;\">\n",
       "      <th></th>\n",
       "      <th>grade_num</th>\n",
       "      <th>loan_grade</th>\n",
       "      <th>apr</th>\n",
       "      <th>36_mo</th>\n",
       "      <th>60_mo</th>\n",
       "    </tr>\n",
       "  </thead>\n",
       "  <tbody>\n",
       "    <tr>\n",
       "      <th>0</th>\n",
       "      <td>34</td>\n",
       "      <td>A1</td>\n",
       "      <td>6.03</td>\n",
       "      <td>6.78</td>\n",
       "      <td>7.3</td>\n",
       "    </tr>\n",
       "  </tbody>\n",
       "</table>\n",
       "</div>"
      ],
      "text/plain": [
       "   grade_num loan_grade   apr  36_mo  60_mo\n",
       "0         34         A1  6.03   6.78    7.3"
      ]
     },
     "execution_count": 120,
     "metadata": {},
     "output_type": "execute_result"
    }
   ],
   "source": [
    "apr_roi"
   ]
  },
  {
   "cell_type": "markdown",
   "id": "2f48d29e",
   "metadata": {},
   "source": [
    "# Determine term & calculate interest rate and installment"
   ]
  },
  {
   "cell_type": "code",
   "execution_count": 121,
   "id": "16cdff73",
   "metadata": {
    "ExecuteTime": {
     "end_time": "2024-03-27T20:52:00.666718Z",
     "start_time": "2024-03-27T20:52:00.663005Z"
    }
   },
   "outputs": [],
   "source": [
    "if term == '36 months':\n",
    "    int_rate_col = '36_mo'\n",
    "    term_months = 36\n",
    "else:\n",
    "    int_rate_col = '60_mo'\n",
    "    term_months = 60\n",
    "\n",
    "int_rate = apr_roi[int_rate_col].values[0]\n",
    "installment = float(loan_amnt) / term_months"
   ]
  },
  {
   "cell_type": "code",
   "execution_count": 122,
   "id": "787bdbea",
   "metadata": {
    "ExecuteTime": {
     "end_time": "2024-03-27T20:52:01.756882Z",
     "start_time": "2024-03-27T20:52:01.752713Z"
    }
   },
   "outputs": [],
   "source": [
    "term_map = {'36 months': 1, '60 months': 2}\n",
    "home_map = {'MORTGAGE': 4, 'RENT': 3, 'OWN': 5,'ANY': 2,'OTHER': 1, 'NONE':0 }"
   ]
  },
  {
   "cell_type": "code",
   "execution_count": 54,
   "id": "62f56677",
   "metadata": {
    "ExecuteTime": {
     "end_time": "2024-03-27T19:55:15.411217Z",
     "start_time": "2024-03-27T19:55:15.409423Z"
    }
   },
   "outputs": [
    {
     "data": {
      "text/plain": [
       "Index(['term', 'sub_grade', 'home_ownership', 'annual_inc',\n",
       "       'verification_status', 'dti', 'revol_util', 'mort_acc',\n",
       "       'credit_history', 'credit_line_ratio', 'balance_annual_income',\n",
       "       'fico_avg_score', 'installment_amnt_ratio'],\n",
       "      dtype='object')"
      ]
     },
     "execution_count": 54,
     "metadata": {},
     "output_type": "execute_result"
    }
   ],
   "source": [
    "X_train.columns"
   ]
  },
  {
   "cell_type": "code",
   "execution_count": 55,
   "id": "9f25f37f",
   "metadata": {
    "ExecuteTime": {
     "end_time": "2024-03-27T19:55:15.413159Z",
     "start_time": "2024-03-27T19:55:15.411847Z"
    }
   },
   "outputs": [],
   "source": [
    "feature_to_list=['term','sub_grade','home_ownership', 'annual_inc', 'verification_status',\n",
    "       'dti','revol_util', 'mort_acc','credit_hist', 'credit_line_ratio',\n",
    "       'balance_annual_inc', 'fico_avg_score', 'inst_amnt_ratio']"
   ]
  },
  {
   "cell_type": "markdown",
   "id": "1fc7ef94",
   "metadata": {},
   "source": [
    "## Data dictionary"
   ]
  },
  {
   "cell_type": "code",
   "execution_count": 56,
   "id": "40fbe1e6",
   "metadata": {
    "ExecuteTime": {
     "end_time": "2024-03-27T19:55:15.415821Z",
     "start_time": "2024-03-27T19:55:15.413869Z"
    }
   },
   "outputs": [],
   "source": [
    "data = {\n",
    "    'term': term_map[term],\n",
    "    'sub_grade': sub_grade,\n",
    "    'home_ownership': home_map[home_ownership.upper()],\n",
    "    'annual_inc': np.log(annual_inc),\n",
    "    'verification_status': verification_status,\n",
    "    'dti': dti,\n",
    "    'revol_util': revol_util,\n",
    "    'mort_acc': mort_acc,\n",
    "    'credit_history': 20,\n",
    "    'credit_line_ratio': open_acc / total_acc,\n",
    "    'balance_annual_income': loan_amnt / annual_inc,\n",
    "    'fico_avg_score': fico,\n",
    "    'installment_amnt_ratio': installment / loan_amnt\n",
    "}\n",
    "\n",
    "temp = pd.DataFrame(data, index=[1])"
   ]
  },
  {
   "cell_type": "code",
   "execution_count": 57,
   "id": "e15c2736",
   "metadata": {
    "ExecuteTime": {
     "end_time": "2024-03-27T19:55:15.419980Z",
     "start_time": "2024-03-27T19:55:15.416535Z"
    }
   },
   "outputs": [
    {
     "data": {
      "text/html": [
       "<div>\n",
       "<style scoped>\n",
       "    .dataframe tbody tr th:only-of-type {\n",
       "        vertical-align: middle;\n",
       "    }\n",
       "\n",
       "    .dataframe tbody tr th {\n",
       "        vertical-align: top;\n",
       "    }\n",
       "\n",
       "    .dataframe thead th {\n",
       "        text-align: right;\n",
       "    }\n",
       "</style>\n",
       "<table border=\"1\" class=\"dataframe\">\n",
       "  <thead>\n",
       "    <tr style=\"text-align: right;\">\n",
       "      <th></th>\n",
       "      <th>term</th>\n",
       "      <th>sub_grade</th>\n",
       "      <th>home_ownership</th>\n",
       "      <th>annual_inc</th>\n",
       "      <th>verification_status</th>\n",
       "      <th>dti</th>\n",
       "      <th>revol_util</th>\n",
       "      <th>mort_acc</th>\n",
       "      <th>credit_history</th>\n",
       "      <th>credit_line_ratio</th>\n",
       "      <th>balance_annual_income</th>\n",
       "      <th>fico_avg_score</th>\n",
       "      <th>installment_amnt_ratio</th>\n",
       "    </tr>\n",
       "  </thead>\n",
       "  <tbody>\n",
       "    <tr>\n",
       "      <th>1</th>\n",
       "      <td>2</td>\n",
       "      <td>34.0</td>\n",
       "      <td>3</td>\n",
       "      <td>10.819778</td>\n",
       "      <td>1</td>\n",
       "      <td>2</td>\n",
       "      <td>60</td>\n",
       "      <td>5</td>\n",
       "      <td>20</td>\n",
       "      <td>5.0</td>\n",
       "      <td>0.024</td>\n",
       "      <td>800</td>\n",
       "      <td>0.016667</td>\n",
       "    </tr>\n",
       "  </tbody>\n",
       "</table>\n",
       "</div>"
      ],
      "text/plain": [
       "   term  sub_grade  home_ownership  annual_inc  verification_status  dti  \\\n",
       "1     2       34.0               3   10.819778                    1    2   \n",
       "\n",
       "   revol_util  mort_acc  credit_history  credit_line_ratio  \\\n",
       "1          60         5              20                5.0   \n",
       "\n",
       "   balance_annual_income  fico_avg_score  installment_amnt_ratio  \n",
       "1                  0.024             800                0.016667  "
      ]
     },
     "execution_count": 57,
     "metadata": {},
     "output_type": "execute_result"
    }
   ],
   "source": [
    "temp"
   ]
  },
  {
   "cell_type": "code",
   "execution_count": 58,
   "id": "4a9e8159",
   "metadata": {
    "ExecuteTime": {
     "end_time": "2024-03-27T19:55:15.424721Z",
     "start_time": "2024-03-27T19:55:15.420934Z"
    }
   },
   "outputs": [],
   "source": [
    "# File paths\n",
    "file_paths = [\"/Users/rolex/Desktop/IGP/Project/Data/df_macro_mean.csv\", \"/Users/rolex/Desktop/IGP/Project/Data/df_macro_std.csv\"]\n",
    "\n",
    "df_macro_mean = pd.read_csv(file_paths[0], index_col=0)\n",
    "df_macro_std = pd.read_csv(file_paths[1], index_col=0)"
   ]
  },
  {
   "cell_type": "code",
   "execution_count": 59,
   "id": "56b51511",
   "metadata": {
    "ExecuteTime": {
     "end_time": "2024-03-27T19:55:15.427274Z",
     "start_time": "2024-03-27T19:55:15.425590Z"
    }
   },
   "outputs": [],
   "source": [
    "# Columns to drop\n",
    "columns = ['emp_length', 'purpose', 'revol_bal', 'grade', 'int_rate']\n",
    "\n",
    "# Drop columns from the combined DataFrame\n",
    "df_macro_mean = df_macro_mean.drop(columns=columns)\n",
    "df_macro_std = df_macro_std.drop(columns=columns)"
   ]
  },
  {
   "cell_type": "code",
   "execution_count": 79,
   "id": "1c79fd1f",
   "metadata": {
    "ExecuteTime": {
     "end_time": "2024-03-27T19:58:40.118400Z",
     "start_time": "2024-03-27T19:58:40.099186Z"
    }
   },
   "outputs": [
    {
     "data": {
      "text/html": [
       "<div>\n",
       "<style scoped>\n",
       "    .dataframe tbody tr th:only-of-type {\n",
       "        vertical-align: middle;\n",
       "    }\n",
       "\n",
       "    .dataframe tbody tr th {\n",
       "        vertical-align: top;\n",
       "    }\n",
       "\n",
       "    .dataframe thead th {\n",
       "        text-align: right;\n",
       "    }\n",
       "</style>\n",
       "<table border=\"1\" class=\"dataframe\">\n",
       "  <thead>\n",
       "    <tr style=\"text-align: right;\">\n",
       "      <th></th>\n",
       "      <th>term</th>\n",
       "      <th>sub_grade</th>\n",
       "      <th>home_ownership</th>\n",
       "      <th>annual_inc</th>\n",
       "      <th>verification_status</th>\n",
       "      <th>dti</th>\n",
       "      <th>revol_util</th>\n",
       "      <th>mort_acc</th>\n",
       "      <th>credit_history</th>\n",
       "      <th>credit_line_ratio</th>\n",
       "      <th>balance_annual_income</th>\n",
       "      <th>fico_avg_score</th>\n",
       "      <th>installment_amnt_ratio</th>\n",
       "    </tr>\n",
       "  </thead>\n",
       "  <tbody>\n",
       "    <tr>\n",
       "      <th>1</th>\n",
       "      <td>1.661923</td>\n",
       "      <td>1.650263</td>\n",
       "      <td>-1.379619</td>\n",
       "      <td>-0.560838</td>\n",
       "      <td>-0.121252</td>\n",
       "      <td>-2.020499</td>\n",
       "      <td>0.281008</td>\n",
       "      <td>1.695813</td>\n",
       "      <td>-2.221532</td>\n",
       "      <td>26.330898</td>\n",
       "      <td>-1.683967</td>\n",
       "      <td>3.192017</td>\n",
       "      <td>-3.276675</td>\n",
       "    </tr>\n",
       "  </tbody>\n",
       "</table>\n",
       "</div>"
      ],
      "text/plain": [
       "       term  sub_grade  home_ownership  annual_inc  verification_status  \\\n",
       "1  1.661923   1.650263       -1.379619   -0.560838            -0.121252   \n",
       "\n",
       "        dti  revol_util  mort_acc  credit_history  credit_line_ratio  \\\n",
       "1 -2.020499    0.281008  1.695813       -2.221532          26.330898   \n",
       "\n",
       "   balance_annual_income  fico_avg_score  installment_amnt_ratio  \n",
       "1              -1.683967        3.192017               -3.276675  "
      ]
     },
     "execution_count": 79,
     "metadata": {},
     "output_type": "execute_result"
    }
   ],
   "source": [
    "scale = temp.copy()\n",
    "\n",
    "code = 70\n",
    "\n",
    "# Iterate over each feature in df_macro_mean.columns\n",
    "for feat in df_macro_mean.columns:\n",
    "    # Calculate the scaled value for each feature\n",
    "    scale[feat] = (scale[feat] - df_macro_mean.loc[code, feat]) / df_macro_std.loc[code, feat]\n",
    "\n",
    "scale.head()"
   ]
  },
  {
   "cell_type": "code",
   "execution_count": 80,
   "id": "bbfab450",
   "metadata": {
    "ExecuteTime": {
     "end_time": "2024-03-27T19:58:41.157912Z",
     "start_time": "2024-03-27T19:58:41.147121Z"
    }
   },
   "outputs": [
    {
     "data": {
      "text/plain": [
       "0"
      ]
     },
     "execution_count": 80,
     "metadata": {},
     "output_type": "execute_result"
    }
   ],
   "source": [
    "xgb_classifier.predict(scale)[0]"
   ]
  },
  {
   "cell_type": "markdown",
   "id": "09392060",
   "metadata": {},
   "source": [
    "# Model Tuning"
   ]
  },
  {
   "cell_type": "code",
   "execution_count": 82,
   "id": "10600e01",
   "metadata": {
    "ExecuteTime": {
     "end_time": "2024-03-27T20:03:24.446759Z",
     "start_time": "2024-03-27T20:03:24.442990Z"
    }
   },
   "outputs": [],
   "source": [
    "data_directory = \"/Users/rolex/Desktop/IGP/Project/Data/\"\n",
    "df_train_scaled = 'df_train_scaled.csv.zip'\n",
    "df_test_scaled = 'df_test_scaled.csv.zip'\n",
    "df_train_path = os.path.join(data_directory , df_train_scaled)\n",
    "df_test_path = os.path.join(data_directory , df_test_scaled)"
   ]
  },
  {
   "cell_type": "code",
   "execution_count": 85,
   "id": "35773bfb",
   "metadata": {
    "ExecuteTime": {
     "end_time": "2024-03-27T20:05:57.223565Z",
     "start_time": "2024-03-27T20:05:54.887778Z"
    }
   },
   "outputs": [
    {
     "data": {
      "text/html": [
       "<div>\n",
       "<style scoped>\n",
       "    .dataframe tbody tr th:only-of-type {\n",
       "        vertical-align: middle;\n",
       "    }\n",
       "\n",
       "    .dataframe tbody tr th {\n",
       "        vertical-align: top;\n",
       "    }\n",
       "\n",
       "    .dataframe thead th {\n",
       "        text-align: right;\n",
       "    }\n",
       "</style>\n",
       "<table border=\"1\" class=\"dataframe\">\n",
       "  <thead>\n",
       "    <tr style=\"text-align: right;\">\n",
       "      <th></th>\n",
       "      <th>Unnamed: 0</th>\n",
       "      <th>term</th>\n",
       "      <th>int_rate</th>\n",
       "      <th>grade</th>\n",
       "      <th>sub_grade</th>\n",
       "      <th>emp_length</th>\n",
       "      <th>home_ownership</th>\n",
       "      <th>annual_inc</th>\n",
       "      <th>verification_status</th>\n",
       "      <th>loan_status</th>\n",
       "      <th>...</th>\n",
       "      <th>pub_rec</th>\n",
       "      <th>revol_bal</th>\n",
       "      <th>revol_util</th>\n",
       "      <th>mort_acc</th>\n",
       "      <th>pub_rec_bankruptcies</th>\n",
       "      <th>credit_history</th>\n",
       "      <th>credit_line_ratio</th>\n",
       "      <th>balance_annual_income</th>\n",
       "      <th>fico_avg_score</th>\n",
       "      <th>installment_amnt_ratio</th>\n",
       "    </tr>\n",
       "  </thead>\n",
       "  <tbody>\n",
       "    <tr>\n",
       "      <th>0</th>\n",
       "      <td>0</td>\n",
       "      <td>-0.608872</td>\n",
       "      <td>0.164693</td>\n",
       "      <td>-0.163457</td>\n",
       "      <td>-0.325463</td>\n",
       "      <td>1.122052</td>\n",
       "      <td>0.447071</td>\n",
       "      <td>-0.429185</td>\n",
       "      <td>-1.307963</td>\n",
       "      <td>0</td>\n",
       "      <td>...</td>\n",
       "      <td>0</td>\n",
       "      <td>-0.546784</td>\n",
       "      <td>-1.023435</td>\n",
       "      <td>-0.312566</td>\n",
       "      <td>0</td>\n",
       "      <td>-0.507738</td>\n",
       "      <td>0.163442</td>\n",
       "      <td>-1.289327</td>\n",
       "      <td>-0.664438</td>\n",
       "      <td>0.751798</td>\n",
       "    </tr>\n",
       "    <tr>\n",
       "      <th>1</th>\n",
       "      <td>67</td>\n",
       "      <td>1.642269</td>\n",
       "      <td>1.571844</td>\n",
       "      <td>-1.681827</td>\n",
       "      <td>-1.852288</td>\n",
       "      <td>-1.097898</td>\n",
       "      <td>2.003534</td>\n",
       "      <td>0.922524</td>\n",
       "      <td>-1.307963</td>\n",
       "      <td>1</td>\n",
       "      <td>...</td>\n",
       "      <td>0</td>\n",
       "      <td>0.051569</td>\n",
       "      <td>1.656392</td>\n",
       "      <td>0.185487</td>\n",
       "      <td>0</td>\n",
       "      <td>1.811497</td>\n",
       "      <td>-0.290346</td>\n",
       "      <td>0.013519</td>\n",
       "      <td>-1.142713</td>\n",
       "      <td>-0.953725</td>\n",
       "    </tr>\n",
       "    <tr>\n",
       "      <th>2</th>\n",
       "      <td>109</td>\n",
       "      <td>-0.608872</td>\n",
       "      <td>0.164693</td>\n",
       "      <td>-0.163457</td>\n",
       "      <td>-0.325463</td>\n",
       "      <td>-1.097898</td>\n",
       "      <td>-1.109391</td>\n",
       "      <td>0.373296</td>\n",
       "      <td>1.107810</td>\n",
       "      <td>0</td>\n",
       "      <td>...</td>\n",
       "      <td>0</td>\n",
       "      <td>-0.039984</td>\n",
       "      <td>1.171393</td>\n",
       "      <td>-0.810619</td>\n",
       "      <td>0</td>\n",
       "      <td>-0.405765</td>\n",
       "      <td>-0.661155</td>\n",
       "      <td>-1.119129</td>\n",
       "      <td>-0.505013</td>\n",
       "      <td>0.751305</td>\n",
       "    </tr>\n",
       "    <tr>\n",
       "      <th>3</th>\n",
       "      <td>166</td>\n",
       "      <td>-0.608872</td>\n",
       "      <td>0.045809</td>\n",
       "      <td>-0.163457</td>\n",
       "      <td>-0.172780</td>\n",
       "      <td>-1.375392</td>\n",
       "      <td>-1.109391</td>\n",
       "      <td>-1.966736</td>\n",
       "      <td>1.107810</td>\n",
       "      <td>0</td>\n",
       "      <td>...</td>\n",
       "      <td>0</td>\n",
       "      <td>-0.491274</td>\n",
       "      <td>-0.982334</td>\n",
       "      <td>-0.810619</td>\n",
       "      <td>0</td>\n",
       "      <td>-1.030678</td>\n",
       "      <td>0.453866</td>\n",
       "      <td>-0.581365</td>\n",
       "      <td>0.451536</td>\n",
       "      <td>0.690353</td>\n",
       "    </tr>\n",
       "    <tr>\n",
       "      <th>4</th>\n",
       "      <td>240</td>\n",
       "      <td>-0.608872</td>\n",
       "      <td>0.350584</td>\n",
       "      <td>-0.163457</td>\n",
       "      <td>-0.478145</td>\n",
       "      <td>-1.097898</td>\n",
       "      <td>-1.109391</td>\n",
       "      <td>-0.044315</td>\n",
       "      <td>1.107810</td>\n",
       "      <td>0</td>\n",
       "      <td>...</td>\n",
       "      <td>0</td>\n",
       "      <td>-0.101400</td>\n",
       "      <td>0.123301</td>\n",
       "      <td>-0.810619</td>\n",
       "      <td>0</td>\n",
       "      <td>0.015201</td>\n",
       "      <td>-0.203410</td>\n",
       "      <td>-1.206653</td>\n",
       "      <td>-0.823863</td>\n",
       "      <td>0.847883</td>\n",
       "    </tr>\n",
       "  </tbody>\n",
       "</table>\n",
       "<p>5 rows × 22 columns</p>\n",
       "</div>"
      ],
      "text/plain": [
       "   Unnamed: 0      term  int_rate     grade  sub_grade  emp_length  \\\n",
       "0           0 -0.608872  0.164693 -0.163457  -0.325463    1.122052   \n",
       "1          67  1.642269  1.571844 -1.681827  -1.852288   -1.097898   \n",
       "2         109 -0.608872  0.164693 -0.163457  -0.325463   -1.097898   \n",
       "3         166 -0.608872  0.045809 -0.163457  -0.172780   -1.375392   \n",
       "4         240 -0.608872  0.350584 -0.163457  -0.478145   -1.097898   \n",
       "\n",
       "   home_ownership  annual_inc  verification_status  loan_status  ...  pub_rec  \\\n",
       "0        0.447071   -0.429185            -1.307963            0  ...        0   \n",
       "1        2.003534    0.922524            -1.307963            1  ...        0   \n",
       "2       -1.109391    0.373296             1.107810            0  ...        0   \n",
       "3       -1.109391   -1.966736             1.107810            0  ...        0   \n",
       "4       -1.109391   -0.044315             1.107810            0  ...        0   \n",
       "\n",
       "   revol_bal  revol_util  mort_acc  pub_rec_bankruptcies  credit_history  \\\n",
       "0  -0.546784   -1.023435 -0.312566                     0       -0.507738   \n",
       "1   0.051569    1.656392  0.185487                     0        1.811497   \n",
       "2  -0.039984    1.171393 -0.810619                     0       -0.405765   \n",
       "3  -0.491274   -0.982334 -0.810619                     0       -1.030678   \n",
       "4  -0.101400    0.123301 -0.810619                     0        0.015201   \n",
       "\n",
       "   credit_line_ratio  balance_annual_income  fico_avg_score  \\\n",
       "0           0.163442              -1.289327       -0.664438   \n",
       "1          -0.290346               0.013519       -1.142713   \n",
       "2          -0.661155              -1.119129       -0.505013   \n",
       "3           0.453866              -0.581365        0.451536   \n",
       "4          -0.203410              -1.206653       -0.823863   \n",
       "\n",
       "   installment_amnt_ratio  \n",
       "0                0.751798  \n",
       "1               -0.953725  \n",
       "2                0.751305  \n",
       "3                0.690353  \n",
       "4                0.847883  \n",
       "\n",
       "[5 rows x 22 columns]"
      ]
     },
     "execution_count": 85,
     "metadata": {},
     "output_type": "execute_result"
    }
   ],
   "source": [
    "df_train_scaled = pd.read_csv(df_train_path)\n",
    "df_train_scaled.head()"
   ]
  },
  {
   "cell_type": "markdown",
   "id": "c56c42d4",
   "metadata": {},
   "source": [
    "## Hyper Parameter tuning (Class Distribution)"
   ]
  },
  {
   "cell_type": "code",
   "execution_count": 86,
   "id": "9c73a13b",
   "metadata": {
    "ExecuteTime": {
     "end_time": "2024-03-27T20:09:59.045340Z",
     "start_time": "2024-03-27T20:08:39.176479Z"
    }
   },
   "outputs": [
    {
     "name": "stdout",
     "output_type": "stream",
     "text": [
      "Estimate: 3.973\n",
      "Fitting 3 folds for each of 18 candidates, totalling 54 fits\n"
     ]
    },
    {
     "data": {
      "text/html": [
       "<style>#sk-container-id-2 {\n",
       "  /* Definition of color scheme common for light and dark mode */\n",
       "  --sklearn-color-text: black;\n",
       "  --sklearn-color-line: gray;\n",
       "  /* Definition of color scheme for unfitted estimators */\n",
       "  --sklearn-color-unfitted-level-0: #fff5e6;\n",
       "  --sklearn-color-unfitted-level-1: #f6e4d2;\n",
       "  --sklearn-color-unfitted-level-2: #ffe0b3;\n",
       "  --sklearn-color-unfitted-level-3: chocolate;\n",
       "  /* Definition of color scheme for fitted estimators */\n",
       "  --sklearn-color-fitted-level-0: #f0f8ff;\n",
       "  --sklearn-color-fitted-level-1: #d4ebff;\n",
       "  --sklearn-color-fitted-level-2: #b3dbfd;\n",
       "  --sklearn-color-fitted-level-3: cornflowerblue;\n",
       "\n",
       "  /* Specific color for light theme */\n",
       "  --sklearn-color-text-on-default-background: var(--sg-text-color, var(--theme-code-foreground, var(--jp-content-font-color1, black)));\n",
       "  --sklearn-color-background: var(--sg-background-color, var(--theme-background, var(--jp-layout-color0, white)));\n",
       "  --sklearn-color-border-box: var(--sg-text-color, var(--theme-code-foreground, var(--jp-content-font-color1, black)));\n",
       "  --sklearn-color-icon: #696969;\n",
       "\n",
       "  @media (prefers-color-scheme: dark) {\n",
       "    /* Redefinition of color scheme for dark theme */\n",
       "    --sklearn-color-text-on-default-background: var(--sg-text-color, var(--theme-code-foreground, var(--jp-content-font-color1, white)));\n",
       "    --sklearn-color-background: var(--sg-background-color, var(--theme-background, var(--jp-layout-color0, #111)));\n",
       "    --sklearn-color-border-box: var(--sg-text-color, var(--theme-code-foreground, var(--jp-content-font-color1, white)));\n",
       "    --sklearn-color-icon: #878787;\n",
       "  }\n",
       "}\n",
       "\n",
       "#sk-container-id-2 {\n",
       "  color: var(--sklearn-color-text);\n",
       "}\n",
       "\n",
       "#sk-container-id-2 pre {\n",
       "  padding: 0;\n",
       "}\n",
       "\n",
       "#sk-container-id-2 input.sk-hidden--visually {\n",
       "  border: 0;\n",
       "  clip: rect(1px 1px 1px 1px);\n",
       "  clip: rect(1px, 1px, 1px, 1px);\n",
       "  height: 1px;\n",
       "  margin: -1px;\n",
       "  overflow: hidden;\n",
       "  padding: 0;\n",
       "  position: absolute;\n",
       "  width: 1px;\n",
       "}\n",
       "\n",
       "#sk-container-id-2 div.sk-dashed-wrapped {\n",
       "  border: 1px dashed var(--sklearn-color-line);\n",
       "  margin: 0 0.4em 0.5em 0.4em;\n",
       "  box-sizing: border-box;\n",
       "  padding-bottom: 0.4em;\n",
       "  background-color: var(--sklearn-color-background);\n",
       "}\n",
       "\n",
       "#sk-container-id-2 div.sk-container {\n",
       "  /* jupyter's `normalize.less` sets `[hidden] { display: none; }`\n",
       "     but bootstrap.min.css set `[hidden] { display: none !important; }`\n",
       "     so we also need the `!important` here to be able to override the\n",
       "     default hidden behavior on the sphinx rendered scikit-learn.org.\n",
       "     See: https://github.com/scikit-learn/scikit-learn/issues/21755 */\n",
       "  display: inline-block !important;\n",
       "  position: relative;\n",
       "}\n",
       "\n",
       "#sk-container-id-2 div.sk-text-repr-fallback {\n",
       "  display: none;\n",
       "}\n",
       "\n",
       "div.sk-parallel-item,\n",
       "div.sk-serial,\n",
       "div.sk-item {\n",
       "  /* draw centered vertical line to link estimators */\n",
       "  background-image: linear-gradient(var(--sklearn-color-text-on-default-background), var(--sklearn-color-text-on-default-background));\n",
       "  background-size: 2px 100%;\n",
       "  background-repeat: no-repeat;\n",
       "  background-position: center center;\n",
       "}\n",
       "\n",
       "/* Parallel-specific style estimator block */\n",
       "\n",
       "#sk-container-id-2 div.sk-parallel-item::after {\n",
       "  content: \"\";\n",
       "  width: 100%;\n",
       "  border-bottom: 2px solid var(--sklearn-color-text-on-default-background);\n",
       "  flex-grow: 1;\n",
       "}\n",
       "\n",
       "#sk-container-id-2 div.sk-parallel {\n",
       "  display: flex;\n",
       "  align-items: stretch;\n",
       "  justify-content: center;\n",
       "  background-color: var(--sklearn-color-background);\n",
       "  position: relative;\n",
       "}\n",
       "\n",
       "#sk-container-id-2 div.sk-parallel-item {\n",
       "  display: flex;\n",
       "  flex-direction: column;\n",
       "}\n",
       "\n",
       "#sk-container-id-2 div.sk-parallel-item:first-child::after {\n",
       "  align-self: flex-end;\n",
       "  width: 50%;\n",
       "}\n",
       "\n",
       "#sk-container-id-2 div.sk-parallel-item:last-child::after {\n",
       "  align-self: flex-start;\n",
       "  width: 50%;\n",
       "}\n",
       "\n",
       "#sk-container-id-2 div.sk-parallel-item:only-child::after {\n",
       "  width: 0;\n",
       "}\n",
       "\n",
       "/* Serial-specific style estimator block */\n",
       "\n",
       "#sk-container-id-2 div.sk-serial {\n",
       "  display: flex;\n",
       "  flex-direction: column;\n",
       "  align-items: center;\n",
       "  background-color: var(--sklearn-color-background);\n",
       "  padding-right: 1em;\n",
       "  padding-left: 1em;\n",
       "}\n",
       "\n",
       "\n",
       "/* Toggleable style: style used for estimator/Pipeline/ColumnTransformer box that is\n",
       "clickable and can be expanded/collapsed.\n",
       "- Pipeline and ColumnTransformer use this feature and define the default style\n",
       "- Estimators will overwrite some part of the style using the `sk-estimator` class\n",
       "*/\n",
       "\n",
       "/* Pipeline and ColumnTransformer style (default) */\n",
       "\n",
       "#sk-container-id-2 div.sk-toggleable {\n",
       "  /* Default theme specific background. It is overwritten whether we have a\n",
       "  specific estimator or a Pipeline/ColumnTransformer */\n",
       "  background-color: var(--sklearn-color-background);\n",
       "}\n",
       "\n",
       "/* Toggleable label */\n",
       "#sk-container-id-2 label.sk-toggleable__label {\n",
       "  cursor: pointer;\n",
       "  display: block;\n",
       "  width: 100%;\n",
       "  margin-bottom: 0;\n",
       "  padding: 0.5em;\n",
       "  box-sizing: border-box;\n",
       "  text-align: center;\n",
       "}\n",
       "\n",
       "#sk-container-id-2 label.sk-toggleable__label-arrow:before {\n",
       "  /* Arrow on the left of the label */\n",
       "  content: \"▸\";\n",
       "  float: left;\n",
       "  margin-right: 0.25em;\n",
       "  color: var(--sklearn-color-icon);\n",
       "}\n",
       "\n",
       "#sk-container-id-2 label.sk-toggleable__label-arrow:hover:before {\n",
       "  color: var(--sklearn-color-text);\n",
       "}\n",
       "\n",
       "/* Toggleable content - dropdown */\n",
       "\n",
       "#sk-container-id-2 div.sk-toggleable__content {\n",
       "  max-height: 0;\n",
       "  max-width: 0;\n",
       "  overflow: hidden;\n",
       "  text-align: left;\n",
       "  /* unfitted */\n",
       "  background-color: var(--sklearn-color-unfitted-level-0);\n",
       "}\n",
       "\n",
       "#sk-container-id-2 div.sk-toggleable__content.fitted {\n",
       "  /* fitted */\n",
       "  background-color: var(--sklearn-color-fitted-level-0);\n",
       "}\n",
       "\n",
       "#sk-container-id-2 div.sk-toggleable__content pre {\n",
       "  margin: 0.2em;\n",
       "  border-radius: 0.25em;\n",
       "  color: var(--sklearn-color-text);\n",
       "  /* unfitted */\n",
       "  background-color: var(--sklearn-color-unfitted-level-0);\n",
       "}\n",
       "\n",
       "#sk-container-id-2 div.sk-toggleable__content.fitted pre {\n",
       "  /* unfitted */\n",
       "  background-color: var(--sklearn-color-fitted-level-0);\n",
       "}\n",
       "\n",
       "#sk-container-id-2 input.sk-toggleable__control:checked~div.sk-toggleable__content {\n",
       "  /* Expand drop-down */\n",
       "  max-height: 200px;\n",
       "  max-width: 100%;\n",
       "  overflow: auto;\n",
       "}\n",
       "\n",
       "#sk-container-id-2 input.sk-toggleable__control:checked~label.sk-toggleable__label-arrow:before {\n",
       "  content: \"▾\";\n",
       "}\n",
       "\n",
       "/* Pipeline/ColumnTransformer-specific style */\n",
       "\n",
       "#sk-container-id-2 div.sk-label input.sk-toggleable__control:checked~label.sk-toggleable__label {\n",
       "  color: var(--sklearn-color-text);\n",
       "  background-color: var(--sklearn-color-unfitted-level-2);\n",
       "}\n",
       "\n",
       "#sk-container-id-2 div.sk-label.fitted input.sk-toggleable__control:checked~label.sk-toggleable__label {\n",
       "  background-color: var(--sklearn-color-fitted-level-2);\n",
       "}\n",
       "\n",
       "/* Estimator-specific style */\n",
       "\n",
       "/* Colorize estimator box */\n",
       "#sk-container-id-2 div.sk-estimator input.sk-toggleable__control:checked~label.sk-toggleable__label {\n",
       "  /* unfitted */\n",
       "  background-color: var(--sklearn-color-unfitted-level-2);\n",
       "}\n",
       "\n",
       "#sk-container-id-2 div.sk-estimator.fitted input.sk-toggleable__control:checked~label.sk-toggleable__label {\n",
       "  /* fitted */\n",
       "  background-color: var(--sklearn-color-fitted-level-2);\n",
       "}\n",
       "\n",
       "#sk-container-id-2 div.sk-label label.sk-toggleable__label,\n",
       "#sk-container-id-2 div.sk-label label {\n",
       "  /* The background is the default theme color */\n",
       "  color: var(--sklearn-color-text-on-default-background);\n",
       "}\n",
       "\n",
       "/* On hover, darken the color of the background */\n",
       "#sk-container-id-2 div.sk-label:hover label.sk-toggleable__label {\n",
       "  color: var(--sklearn-color-text);\n",
       "  background-color: var(--sklearn-color-unfitted-level-2);\n",
       "}\n",
       "\n",
       "/* Label box, darken color on hover, fitted */\n",
       "#sk-container-id-2 div.sk-label.fitted:hover label.sk-toggleable__label.fitted {\n",
       "  color: var(--sklearn-color-text);\n",
       "  background-color: var(--sklearn-color-fitted-level-2);\n",
       "}\n",
       "\n",
       "/* Estimator label */\n",
       "\n",
       "#sk-container-id-2 div.sk-label label {\n",
       "  font-family: monospace;\n",
       "  font-weight: bold;\n",
       "  display: inline-block;\n",
       "  line-height: 1.2em;\n",
       "}\n",
       "\n",
       "#sk-container-id-2 div.sk-label-container {\n",
       "  text-align: center;\n",
       "}\n",
       "\n",
       "/* Estimator-specific */\n",
       "#sk-container-id-2 div.sk-estimator {\n",
       "  font-family: monospace;\n",
       "  border: 1px dotted var(--sklearn-color-border-box);\n",
       "  border-radius: 0.25em;\n",
       "  box-sizing: border-box;\n",
       "  margin-bottom: 0.5em;\n",
       "  /* unfitted */\n",
       "  background-color: var(--sklearn-color-unfitted-level-0);\n",
       "}\n",
       "\n",
       "#sk-container-id-2 div.sk-estimator.fitted {\n",
       "  /* fitted */\n",
       "  background-color: var(--sklearn-color-fitted-level-0);\n",
       "}\n",
       "\n",
       "/* on hover */\n",
       "#sk-container-id-2 div.sk-estimator:hover {\n",
       "  /* unfitted */\n",
       "  background-color: var(--sklearn-color-unfitted-level-2);\n",
       "}\n",
       "\n",
       "#sk-container-id-2 div.sk-estimator.fitted:hover {\n",
       "  /* fitted */\n",
       "  background-color: var(--sklearn-color-fitted-level-2);\n",
       "}\n",
       "\n",
       "/* Specification for estimator info (e.g. \"i\" and \"?\") */\n",
       "\n",
       "/* Common style for \"i\" and \"?\" */\n",
       "\n",
       ".sk-estimator-doc-link,\n",
       "a:link.sk-estimator-doc-link,\n",
       "a:visited.sk-estimator-doc-link {\n",
       "  float: right;\n",
       "  font-size: smaller;\n",
       "  line-height: 1em;\n",
       "  font-family: monospace;\n",
       "  background-color: var(--sklearn-color-background);\n",
       "  border-radius: 1em;\n",
       "  height: 1em;\n",
       "  width: 1em;\n",
       "  text-decoration: none !important;\n",
       "  margin-left: 1ex;\n",
       "  /* unfitted */\n",
       "  border: var(--sklearn-color-unfitted-level-1) 1pt solid;\n",
       "  color: var(--sklearn-color-unfitted-level-1);\n",
       "}\n",
       "\n",
       ".sk-estimator-doc-link.fitted,\n",
       "a:link.sk-estimator-doc-link.fitted,\n",
       "a:visited.sk-estimator-doc-link.fitted {\n",
       "  /* fitted */\n",
       "  border: var(--sklearn-color-fitted-level-1) 1pt solid;\n",
       "  color: var(--sklearn-color-fitted-level-1);\n",
       "}\n",
       "\n",
       "/* On hover */\n",
       "div.sk-estimator:hover .sk-estimator-doc-link:hover,\n",
       ".sk-estimator-doc-link:hover,\n",
       "div.sk-label-container:hover .sk-estimator-doc-link:hover,\n",
       ".sk-estimator-doc-link:hover {\n",
       "  /* unfitted */\n",
       "  background-color: var(--sklearn-color-unfitted-level-3);\n",
       "  color: var(--sklearn-color-background);\n",
       "  text-decoration: none;\n",
       "}\n",
       "\n",
       "div.sk-estimator.fitted:hover .sk-estimator-doc-link.fitted:hover,\n",
       ".sk-estimator-doc-link.fitted:hover,\n",
       "div.sk-label-container:hover .sk-estimator-doc-link.fitted:hover,\n",
       ".sk-estimator-doc-link.fitted:hover {\n",
       "  /* fitted */\n",
       "  background-color: var(--sklearn-color-fitted-level-3);\n",
       "  color: var(--sklearn-color-background);\n",
       "  text-decoration: none;\n",
       "}\n",
       "\n",
       "/* Span, style for the box shown on hovering the info icon */\n",
       ".sk-estimator-doc-link span {\n",
       "  display: none;\n",
       "  z-index: 9999;\n",
       "  position: relative;\n",
       "  font-weight: normal;\n",
       "  right: .2ex;\n",
       "  padding: .5ex;\n",
       "  margin: .5ex;\n",
       "  width: min-content;\n",
       "  min-width: 20ex;\n",
       "  max-width: 50ex;\n",
       "  color: var(--sklearn-color-text);\n",
       "  box-shadow: 2pt 2pt 4pt #999;\n",
       "  /* unfitted */\n",
       "  background: var(--sklearn-color-unfitted-level-0);\n",
       "  border: .5pt solid var(--sklearn-color-unfitted-level-3);\n",
       "}\n",
       "\n",
       ".sk-estimator-doc-link.fitted span {\n",
       "  /* fitted */\n",
       "  background: var(--sklearn-color-fitted-level-0);\n",
       "  border: var(--sklearn-color-fitted-level-3);\n",
       "}\n",
       "\n",
       ".sk-estimator-doc-link:hover span {\n",
       "  display: block;\n",
       "}\n",
       "\n",
       "/* \"?\"-specific style due to the `<a>` HTML tag */\n",
       "\n",
       "#sk-container-id-2 a.estimator_doc_link {\n",
       "  float: right;\n",
       "  font-size: 1rem;\n",
       "  line-height: 1em;\n",
       "  font-family: monospace;\n",
       "  background-color: var(--sklearn-color-background);\n",
       "  border-radius: 1rem;\n",
       "  height: 1rem;\n",
       "  width: 1rem;\n",
       "  text-decoration: none;\n",
       "  /* unfitted */\n",
       "  color: var(--sklearn-color-unfitted-level-1);\n",
       "  border: var(--sklearn-color-unfitted-level-1) 1pt solid;\n",
       "}\n",
       "\n",
       "#sk-container-id-2 a.estimator_doc_link.fitted {\n",
       "  /* fitted */\n",
       "  border: var(--sklearn-color-fitted-level-1) 1pt solid;\n",
       "  color: var(--sklearn-color-fitted-level-1);\n",
       "}\n",
       "\n",
       "/* On hover */\n",
       "#sk-container-id-2 a.estimator_doc_link:hover {\n",
       "  /* unfitted */\n",
       "  background-color: var(--sklearn-color-unfitted-level-3);\n",
       "  color: var(--sklearn-color-background);\n",
       "  text-decoration: none;\n",
       "}\n",
       "\n",
       "#sk-container-id-2 a.estimator_doc_link.fitted:hover {\n",
       "  /* fitted */\n",
       "  background-color: var(--sklearn-color-fitted-level-3);\n",
       "}\n",
       "</style><div id=\"sk-container-id-2\" class=\"sk-top-container\"><div class=\"sk-text-repr-fallback\"><pre>GridSearchCV(cv=3,\n",
       "             estimator=Pipeline(steps=[(&#x27;xgb&#x27;,\n",
       "                                        XGBClassifier(base_score=None,\n",
       "                                                      booster=None,\n",
       "                                                      callbacks=None,\n",
       "                                                      colsample_bylevel=None,\n",
       "                                                      colsample_bynode=None,\n",
       "                                                      colsample_bytree=None,\n",
       "                                                      device=None,\n",
       "                                                      early_stopping_rounds=None,\n",
       "                                                      enable_categorical=False,\n",
       "                                                      eval_metric=None,\n",
       "                                                      feature_types=None,\n",
       "                                                      gamma=None,\n",
       "                                                      grow_policy=None,\n",
       "                                                      importance_type=None,\n",
       "                                                      interaction_constraints=N...\n",
       "                                                      max_cat_to_onehot=None,\n",
       "                                                      max_delta_step=None,\n",
       "                                                      max_depth=None,\n",
       "                                                      max_leaves=None,\n",
       "                                                      min_child_weight=None,\n",
       "                                                      missing=nan,\n",
       "                                                      monotone_constraints=None,\n",
       "                                                      multi_strategy=None,\n",
       "                                                      n_estimators=200,\n",
       "                                                      n_jobs=-1,\n",
       "                                                      num_parallel_tree=None,\n",
       "                                                      random_state=None, ...))]),\n",
       "             n_jobs=-1,\n",
       "             param_grid={&#x27;xgb__colsample_bytree&#x27;: [0.9, 1.0],\n",
       "                         &#x27;xgb__eta&#x27;: [0.05, 0.1, 0.3],\n",
       "                         &#x27;xgb__max_depth&#x27;: [3, 6, 12]},\n",
       "             scoring=&#x27;roc_auc&#x27;, verbose=50)</pre><b>In a Jupyter environment, please rerun this cell to show the HTML representation or trust the notebook. <br />On GitHub, the HTML representation is unable to render, please try loading this page with nbviewer.org.</b></div><div class=\"sk-container\" hidden><div class=\"sk-item sk-dashed-wrapped\"><div class=\"sk-label-container\"><div class=\"sk-label fitted sk-toggleable\"><input class=\"sk-toggleable__control sk-hidden--visually\" id=\"sk-estimator-id-2\" type=\"checkbox\" ><label for=\"sk-estimator-id-2\" class=\"sk-toggleable__label fitted sk-toggleable__label-arrow fitted\">&nbsp;&nbsp;GridSearchCV<a class=\"sk-estimator-doc-link fitted\" rel=\"noreferrer\" target=\"_blank\" href=\"https://scikit-learn.org/1.4/modules/generated/sklearn.model_selection.GridSearchCV.html\">?<span>Documentation for GridSearchCV</span></a><span class=\"sk-estimator-doc-link fitted\">i<span>Fitted</span></span></label><div class=\"sk-toggleable__content fitted\"><pre>GridSearchCV(cv=3,\n",
       "             estimator=Pipeline(steps=[(&#x27;xgb&#x27;,\n",
       "                                        XGBClassifier(base_score=None,\n",
       "                                                      booster=None,\n",
       "                                                      callbacks=None,\n",
       "                                                      colsample_bylevel=None,\n",
       "                                                      colsample_bynode=None,\n",
       "                                                      colsample_bytree=None,\n",
       "                                                      device=None,\n",
       "                                                      early_stopping_rounds=None,\n",
       "                                                      enable_categorical=False,\n",
       "                                                      eval_metric=None,\n",
       "                                                      feature_types=None,\n",
       "                                                      gamma=None,\n",
       "                                                      grow_policy=None,\n",
       "                                                      importance_type=None,\n",
       "                                                      interaction_constraints=N...\n",
       "                                                      max_cat_to_onehot=None,\n",
       "                                                      max_delta_step=None,\n",
       "                                                      max_depth=None,\n",
       "                                                      max_leaves=None,\n",
       "                                                      min_child_weight=None,\n",
       "                                                      missing=nan,\n",
       "                                                      monotone_constraints=None,\n",
       "                                                      multi_strategy=None,\n",
       "                                                      n_estimators=200,\n",
       "                                                      n_jobs=-1,\n",
       "                                                      num_parallel_tree=None,\n",
       "                                                      random_state=None, ...))]),\n",
       "             n_jobs=-1,\n",
       "             param_grid={&#x27;xgb__colsample_bytree&#x27;: [0.9, 1.0],\n",
       "                         &#x27;xgb__eta&#x27;: [0.05, 0.1, 0.3],\n",
       "                         &#x27;xgb__max_depth&#x27;: [3, 6, 12]},\n",
       "             scoring=&#x27;roc_auc&#x27;, verbose=50)</pre></div> </div></div><div class=\"sk-parallel\"><div class=\"sk-parallel-item\"><div class=\"sk-item\"><div class=\"sk-label-container\"><div class=\"sk-label fitted sk-toggleable\"><input class=\"sk-toggleable__control sk-hidden--visually\" id=\"sk-estimator-id-3\" type=\"checkbox\" ><label for=\"sk-estimator-id-3\" class=\"sk-toggleable__label fitted sk-toggleable__label-arrow fitted\">estimator: Pipeline</label><div class=\"sk-toggleable__content fitted\"><pre>Pipeline(steps=[(&#x27;xgb&#x27;,\n",
       "                 XGBClassifier(base_score=None, booster=None, callbacks=None,\n",
       "                               colsample_bylevel=None, colsample_bynode=None,\n",
       "                               colsample_bytree=None, device=None,\n",
       "                               early_stopping_rounds=None,\n",
       "                               enable_categorical=False, eval_metric=None,\n",
       "                               feature_types=None, gamma=None, grow_policy=None,\n",
       "                               importance_type=None,\n",
       "                               interaction_constraints=None, learning_rate=None,\n",
       "                               max_bin=None, max_cat_threshold=None,\n",
       "                               max_cat_to_onehot=None, max_delta_step=None,\n",
       "                               max_depth=None, max_leaves=None,\n",
       "                               min_child_weight=None, missing=nan,\n",
       "                               monotone_constraints=None, multi_strategy=None,\n",
       "                               n_estimators=200, n_jobs=-1,\n",
       "                               num_parallel_tree=None, random_state=None, ...))])</pre></div> </div></div><div class=\"sk-serial\"><div class=\"sk-item\"><div class=\"sk-serial\"><div class=\"sk-item\"><div class=\"sk-estimator fitted sk-toggleable\"><input class=\"sk-toggleable__control sk-hidden--visually\" id=\"sk-estimator-id-4\" type=\"checkbox\" ><label for=\"sk-estimator-id-4\" class=\"sk-toggleable__label fitted sk-toggleable__label-arrow fitted\">XGBClassifier</label><div class=\"sk-toggleable__content fitted\"><pre>XGBClassifier(base_score=None, booster=None, callbacks=None,\n",
       "              colsample_bylevel=None, colsample_bynode=None,\n",
       "              colsample_bytree=None, device=None, early_stopping_rounds=None,\n",
       "              enable_categorical=False, eval_metric=None, feature_types=None,\n",
       "              gamma=None, grow_policy=None, importance_type=None,\n",
       "              interaction_constraints=None, learning_rate=None, max_bin=None,\n",
       "              max_cat_threshold=None, max_cat_to_onehot=None,\n",
       "              max_delta_step=None, max_depth=None, max_leaves=None,\n",
       "              min_child_weight=None, missing=nan, monotone_constraints=None,\n",
       "              multi_strategy=None, n_estimators=200, n_jobs=-1,\n",
       "              num_parallel_tree=None, random_state=None, ...)</pre></div> </div></div></div></div></div></div></div></div></div></div></div>"
      ],
      "text/plain": [
       "GridSearchCV(cv=3,\n",
       "             estimator=Pipeline(steps=[('xgb',\n",
       "                                        XGBClassifier(base_score=None,\n",
       "                                                      booster=None,\n",
       "                                                      callbacks=None,\n",
       "                                                      colsample_bylevel=None,\n",
       "                                                      colsample_bynode=None,\n",
       "                                                      colsample_bytree=None,\n",
       "                                                      device=None,\n",
       "                                                      early_stopping_rounds=None,\n",
       "                                                      enable_categorical=False,\n",
       "                                                      eval_metric=None,\n",
       "                                                      feature_types=None,\n",
       "                                                      gamma=None,\n",
       "                                                      grow_policy=None,\n",
       "                                                      importance_type=None,\n",
       "                                                      interaction_constraints=N...\n",
       "                                                      max_cat_to_onehot=None,\n",
       "                                                      max_delta_step=None,\n",
       "                                                      max_depth=None,\n",
       "                                                      max_leaves=None,\n",
       "                                                      min_child_weight=None,\n",
       "                                                      missing=nan,\n",
       "                                                      monotone_constraints=None,\n",
       "                                                      multi_strategy=None,\n",
       "                                                      n_estimators=200,\n",
       "                                                      n_jobs=-1,\n",
       "                                                      num_parallel_tree=None,\n",
       "                                                      random_state=None, ...))]),\n",
       "             n_jobs=-1,\n",
       "             param_grid={'xgb__colsample_bytree': [0.9, 1.0],\n",
       "                         'xgb__eta': [0.05, 0.1, 0.3],\n",
       "                         'xgb__max_depth': [3, 6, 12]},\n",
       "             scoring='roc_auc', verbose=50)"
      ]
     },
     "execution_count": 86,
     "metadata": {},
     "output_type": "execute_result"
    }
   ],
   "source": [
    "class_distribution = Counter(y_train)\n",
    "positive_class_count = class_distribution[1]\n",
    "negative_class_count = class_distribution[0]\n",
    "\n",
    "# Estimate scale_pos_weight value\n",
    "scale_pos_weight_estimate = negative_class_count / positive_class_count\n",
    "print('Estimate: %.3f' % scale_pos_weight_estimate)\n",
    "\n",
    "# parameter grid\n",
    "param_grid = {\n",
    "    'xgb__eta': [0.05, 0.1, 0.3],\n",
    "    'xgb__max_depth': [3, 6, 12],\n",
    "    'xgb__colsample_bytree': [0.9, 1.0],\n",
    "}\n",
    "\n",
    "# pipeline\n",
    "model_pipeline = Pipeline([\n",
    "    ('xgb', xgb.XGBClassifier(n_estimators=200, n_jobs=-1, scale_pos_weight=scale_pos_weight_estimate))\n",
    "])\n",
    "\n",
    "# classifier\n",
    "classifier = GridSearchCV(\n",
    "    model_pipeline,\n",
    "    param_grid,\n",
    "    n_jobs=-1,\n",
    "    cv=3,\n",
    "    verbose=50,\n",
    "    scoring='roc_auc'\n",
    ")\n",
    "\n",
    "# Fit the classifier to the training data\n",
    "classifier.fit(X_train, y_train)"
   ]
  },
  {
   "cell_type": "code",
   "execution_count": 91,
   "id": "4788db05",
   "metadata": {
    "ExecuteTime": {
     "end_time": "2024-03-27T20:19:53.548335Z",
     "start_time": "2024-03-27T20:19:53.544898Z"
    }
   },
   "outputs": [
    {
     "name": "stdout",
     "output_type": "stream",
     "text": [
      "Best model parameters: \n",
      " {'xgb__colsample_bytree': 0.9, 'xgb__eta': 0.05, 'xgb__max_depth': 6}\n",
      "Best model score: \n",
      " 0.7155497784821289\n"
     ]
    }
   ],
   "source": [
    "# best parameters from GridSearchCV object\n",
    "best_params = classifier.best_params_\n",
    "print(\"Best model parameters: \\n\", best_params)\n",
    "\n",
    "# best score from GridSearchCV object\n",
    "best_score = classifier.best_score_\n",
    "print(\"Best model score: \\n\", best_score)"
   ]
  },
  {
   "cell_type": "code",
   "execution_count": 100,
   "id": "46ed2c8e",
   "metadata": {
    "ExecuteTime": {
     "end_time": "2024-03-27T20:26:11.750232Z",
     "start_time": "2024-03-27T20:26:11.639941Z"
    }
   },
   "outputs": [
    {
     "name": "stdout",
     "output_type": "stream",
     "text": [
      "Confusion Matrix:\n",
      "[[90077 50453]\n",
      " [18338 35340]]\n"
     ]
    }
   ],
   "source": [
    "# predictions on the test set\n",
    "y_pred = classifier.predict(X_test)\n",
    "\n",
    "# confusion matrix\n",
    "conf_matrix = confusion_matrix(y_test, y_pred)\n",
    "print(\"Confusion Matrix:\")\n",
    "print(conf_matrix)"
   ]
  },
  {
   "cell_type": "code",
   "execution_count": 101,
   "id": "59d62c84",
   "metadata": {
    "ExecuteTime": {
     "end_time": "2024-03-27T20:26:42.903672Z",
     "start_time": "2024-03-27T20:26:42.804820Z"
    }
   },
   "outputs": [
    {
     "data": {
      "image/png": "[encoded data removed]",
      "text/plain": [
       "<Figure size 800x600 with 2 Axes>"
      ]
     },
     "metadata": {},
     "output_type": "display_data"
    }
   ],
   "source": [
    "plt.figure(figsize=(8, 6))\n",
    "sns.heatmap(conf_matrix_alternate, annot=True, fmt='d', cmap='Blues')\n",
    "plt.xlabel('Predicted labels')\n",
    "plt.ylabel('True labels')\n",
    "plt.title('Confusion Matrix')\n",
    "plt.show()"
   ]
  },
  {
   "cell_type": "markdown",
   "id": "e5692358",
   "metadata": {},
   "source": [
    "### predicted probabilities for the positive class"
   ]
  },
  {
   "cell_type": "code",
   "execution_count": 103,
   "id": "08f25e1d",
   "metadata": {
    "ExecuteTime": {
     "end_time": "2024-03-27T20:29:35.859283Z",
     "start_time": "2024-03-27T20:29:35.707651Z"
    }
   },
   "outputs": [],
   "source": [
    "y_prob_positive_class = xgb_classifier.predict_proba(X_test)[:, 1]\n",
    "\n",
    "# Calculate ROC curve\n",
    "fpr, tpr, thresholds = roc_curve(y_test, y_prob_positive_class, pos_label=1)"
   ]
  },
  {
   "cell_type": "markdown",
   "id": "610bfe35",
   "metadata": {},
   "source": [
    "### ROC Curve"
   ]
  },
  {
   "cell_type": "code",
   "execution_count": 105,
   "id": "47c560e2",
   "metadata": {
    "ExecuteTime": {
     "end_time": "2024-03-27T20:31:15.850110Z",
     "start_time": "2024-03-27T20:31:15.578760Z"
    }
   },
   "outputs": [
    {
     "data": {
      "image/png": "[encoded data removed]",
      "text/plain": [
       "<Figure size 1600x800 with 1 Axes>"
      ]
     },
     "metadata": {},
     "output_type": "display_data"
    },
    {
     "name": "stdout",
     "output_type": "stream",
     "text": [
      "AUC: 0.698\n"
     ]
    }
   ],
   "source": [
    "plt.figure(figsize=(16, 8))\n",
    "plt.plot(fpr, tpr, label='XGB')\n",
    "plt.plot([0, 1], [0, 1], label='No Discrimination', linestyle='-', dashes=(5, 5))\n",
    "plt.xlabel('False Positive Rate')\n",
    "plt.ylabel('True Positive Rate')\n",
    "plt.title('ROC Curve')\n",
    "plt.legend()\n",
    "plt.show()\n",
    "\n",
    "# Calculate AUC\n",
    "auc_alternate = roc_auc_score(y_test, xgb_classifier.predict_proba(X_test)[:, 1])\n",
    "print('AUC: %.3f' % auc_alternate)"
   ]
  },
  {
   "cell_type": "markdown",
   "id": "f2d81ea9",
   "metadata": {},
   "source": [
    "### F1-Score"
   ]
  },
  {
   "cell_type": "code",
   "execution_count": 106,
   "id": "444003fe",
   "metadata": {
    "ExecuteTime": {
     "end_time": "2024-03-27T20:35:05.925962Z",
     "start_time": "2024-03-27T20:35:05.691805Z"
    }
   },
   "outputs": [
    {
     "name": "stdout",
     "output_type": "stream",
     "text": [
      "F1 score (binary): 0.506772017121839\n",
      "\n",
      "Classification Report:\n",
      "               precision    recall  f1-score   support\n",
      "\n",
      "           0       0.83      0.64      0.72    140530\n",
      "           1       0.41      0.66      0.51     53678\n",
      "\n",
      "    accuracy                           0.65    194208\n",
      "   macro avg       0.62      0.65      0.62    194208\n",
      "weighted avg       0.72      0.65      0.66    194208\n",
      "\n"
     ]
    }
   ],
   "source": [
    "# F1 score\n",
    "f1 = f1_score(y_test, y_pred)\n",
    "\n",
    "# Print F1 score\n",
    "print(\"F1 score (binary): {}\\n\".format(f1))\n",
    "\n",
    "# Print classification report\n",
    "report = classification_report(y_test, y_pred)\n",
    "print(\"Classification Report:\\n\", report)"
   ]
  },
  {
   "cell_type": "markdown",
   "id": "3a9b6cf8",
   "metadata": {},
   "source": [
    "# Store model for deployment"
   ]
  },
  {
   "cell_type": "code",
   "execution_count": 107,
   "id": "93414acc",
   "metadata": {
    "ExecuteTime": {
     "end_time": "2024-03-27T20:35:56.369230Z",
     "start_time": "2024-03-27T20:35:56.355218Z"
    }
   },
   "outputs": [
    {
     "name": "stdout",
     "output_type": "stream",
     "text": [
      "Saving model at: /Users/rolex/Desktop/IGP/Project/models/xgb_cv_final.pkl\n"
     ]
    }
   ],
   "source": [
    "#directory to save the trained model\n",
    "save_model_dir = \"/Users/rolex/Desktop/IGP/Project/models/xgb_cv_final.pkl\"\n",
    "print(\"Saving model at:\", save_model_dir)\n",
    "\n",
    "# Save the model\n",
    "with open(save_model_dir, 'wb') as file:\n",
    "    pickle.dump(gb, file, protocol=pickle.HIGHEST_PROTOCOL)"
   ]
  },
  {
   "cell_type": "markdown",
   "id": "2a51a5db",
   "metadata": {},
   "source": [
    "# Confidence Interval"
   ]
  },
  {
   "cell_type": "code",
   "execution_count": 109,
   "id": "67b8d66f",
   "metadata": {
    "ExecuteTime": {
     "end_time": "2024-03-27T20:39:34.197951Z",
     "start_time": "2024-03-27T20:39:34.193369Z"
    }
   },
   "outputs": [],
   "source": [
    "data_directory = \"/Users/rolex/Desktop/IGP/Project/Data/\"\n",
    "df_train_scaled = 'df_train_scaled.csv.zip'\n",
    "df_test_scaled = 'df_test_scaled.csv.zip'\n",
    "df_train_path = os.path.join(data_directory , df_train_scaled)\n",
    "df_test_path = os.path.join(data_directory , df_test_scaled)"
   ]
  },
  {
   "cell_type": "code",
   "execution_count": 110,
   "id": "8b7538fc",
   "metadata": {
    "ExecuteTime": {
     "end_time": "2024-03-27T20:39:52.955128Z",
     "start_time": "2024-03-27T20:39:50.677035Z"
    }
   },
   "outputs": [
    {
     "data": {
      "text/html": [
       "<div>\n",
       "<style scoped>\n",
       "    .dataframe tbody tr th:only-of-type {\n",
       "        vertical-align: middle;\n",
       "    }\n",
       "\n",
       "    .dataframe tbody tr th {\n",
       "        vertical-align: top;\n",
       "    }\n",
       "\n",
       "    .dataframe thead th {\n",
       "        text-align: right;\n",
       "    }\n",
       "</style>\n",
       "<table border=\"1\" class=\"dataframe\">\n",
       "  <thead>\n",
       "    <tr style=\"text-align: right;\">\n",
       "      <th></th>\n",
       "      <th>Unnamed: 0</th>\n",
       "      <th>term</th>\n",
       "      <th>int_rate</th>\n",
       "      <th>grade</th>\n",
       "      <th>sub_grade</th>\n",
       "      <th>emp_length</th>\n",
       "      <th>home_ownership</th>\n",
       "      <th>annual_inc</th>\n",
       "      <th>verification_status</th>\n",
       "      <th>loan_status</th>\n",
       "      <th>...</th>\n",
       "      <th>pub_rec</th>\n",
       "      <th>revol_bal</th>\n",
       "      <th>revol_util</th>\n",
       "      <th>mort_acc</th>\n",
       "      <th>pub_rec_bankruptcies</th>\n",
       "      <th>credit_history</th>\n",
       "      <th>credit_line_ratio</th>\n",
       "      <th>balance_annual_income</th>\n",
       "      <th>fico_avg_score</th>\n",
       "      <th>installment_amnt_ratio</th>\n",
       "    </tr>\n",
       "  </thead>\n",
       "  <tbody>\n",
       "    <tr>\n",
       "      <th>0</th>\n",
       "      <td>0</td>\n",
       "      <td>-0.608872</td>\n",
       "      <td>0.164693</td>\n",
       "      <td>-0.163457</td>\n",
       "      <td>-0.325463</td>\n",
       "      <td>1.122052</td>\n",
       "      <td>0.447071</td>\n",
       "      <td>-0.429185</td>\n",
       "      <td>-1.307963</td>\n",
       "      <td>0</td>\n",
       "      <td>...</td>\n",
       "      <td>0</td>\n",
       "      <td>-0.546784</td>\n",
       "      <td>-1.023435</td>\n",
       "      <td>-0.312566</td>\n",
       "      <td>0</td>\n",
       "      <td>-0.507738</td>\n",
       "      <td>0.163442</td>\n",
       "      <td>-1.289327</td>\n",
       "      <td>-0.664438</td>\n",
       "      <td>0.751798</td>\n",
       "    </tr>\n",
       "    <tr>\n",
       "      <th>1</th>\n",
       "      <td>67</td>\n",
       "      <td>1.642269</td>\n",
       "      <td>1.571844</td>\n",
       "      <td>-1.681827</td>\n",
       "      <td>-1.852288</td>\n",
       "      <td>-1.097898</td>\n",
       "      <td>2.003534</td>\n",
       "      <td>0.922524</td>\n",
       "      <td>-1.307963</td>\n",
       "      <td>1</td>\n",
       "      <td>...</td>\n",
       "      <td>0</td>\n",
       "      <td>0.051569</td>\n",
       "      <td>1.656392</td>\n",
       "      <td>0.185487</td>\n",
       "      <td>0</td>\n",
       "      <td>1.811497</td>\n",
       "      <td>-0.290346</td>\n",
       "      <td>0.013519</td>\n",
       "      <td>-1.142713</td>\n",
       "      <td>-0.953725</td>\n",
       "    </tr>\n",
       "    <tr>\n",
       "      <th>2</th>\n",
       "      <td>109</td>\n",
       "      <td>-0.608872</td>\n",
       "      <td>0.164693</td>\n",
       "      <td>-0.163457</td>\n",
       "      <td>-0.325463</td>\n",
       "      <td>-1.097898</td>\n",
       "      <td>-1.109391</td>\n",
       "      <td>0.373296</td>\n",
       "      <td>1.107810</td>\n",
       "      <td>0</td>\n",
       "      <td>...</td>\n",
       "      <td>0</td>\n",
       "      <td>-0.039984</td>\n",
       "      <td>1.171393</td>\n",
       "      <td>-0.810619</td>\n",
       "      <td>0</td>\n",
       "      <td>-0.405765</td>\n",
       "      <td>-0.661155</td>\n",
       "      <td>-1.119129</td>\n",
       "      <td>-0.505013</td>\n",
       "      <td>0.751305</td>\n",
       "    </tr>\n",
       "    <tr>\n",
       "      <th>3</th>\n",
       "      <td>166</td>\n",
       "      <td>-0.608872</td>\n",
       "      <td>0.045809</td>\n",
       "      <td>-0.163457</td>\n",
       "      <td>-0.172780</td>\n",
       "      <td>-1.375392</td>\n",
       "      <td>-1.109391</td>\n",
       "      <td>-1.966736</td>\n",
       "      <td>1.107810</td>\n",
       "      <td>0</td>\n",
       "      <td>...</td>\n",
       "      <td>0</td>\n",
       "      <td>-0.491274</td>\n",
       "      <td>-0.982334</td>\n",
       "      <td>-0.810619</td>\n",
       "      <td>0</td>\n",
       "      <td>-1.030678</td>\n",
       "      <td>0.453866</td>\n",
       "      <td>-0.581365</td>\n",
       "      <td>0.451536</td>\n",
       "      <td>0.690353</td>\n",
       "    </tr>\n",
       "    <tr>\n",
       "      <th>4</th>\n",
       "      <td>240</td>\n",
       "      <td>-0.608872</td>\n",
       "      <td>0.350584</td>\n",
       "      <td>-0.163457</td>\n",
       "      <td>-0.478145</td>\n",
       "      <td>-1.097898</td>\n",
       "      <td>-1.109391</td>\n",
       "      <td>-0.044315</td>\n",
       "      <td>1.107810</td>\n",
       "      <td>0</td>\n",
       "      <td>...</td>\n",
       "      <td>0</td>\n",
       "      <td>-0.101400</td>\n",
       "      <td>0.123301</td>\n",
       "      <td>-0.810619</td>\n",
       "      <td>0</td>\n",
       "      <td>0.015201</td>\n",
       "      <td>-0.203410</td>\n",
       "      <td>-1.206653</td>\n",
       "      <td>-0.823863</td>\n",
       "      <td>0.847883</td>\n",
       "    </tr>\n",
       "  </tbody>\n",
       "</table>\n",
       "<p>5 rows × 22 columns</p>\n",
       "</div>"
      ],
      "text/plain": [
       "   Unnamed: 0      term  int_rate     grade  sub_grade  emp_length  \\\n",
       "0           0 -0.608872  0.164693 -0.163457  -0.325463    1.122052   \n",
       "1          67  1.642269  1.571844 -1.681827  -1.852288   -1.097898   \n",
       "2         109 -0.608872  0.164693 -0.163457  -0.325463   -1.097898   \n",
       "3         166 -0.608872  0.045809 -0.163457  -0.172780   -1.375392   \n",
       "4         240 -0.608872  0.350584 -0.163457  -0.478145   -1.097898   \n",
       "\n",
       "   home_ownership  annual_inc  verification_status  loan_status  ...  pub_rec  \\\n",
       "0        0.447071   -0.429185            -1.307963            0  ...        0   \n",
       "1        2.003534    0.922524            -1.307963            1  ...        0   \n",
       "2       -1.109391    0.373296             1.107810            0  ...        0   \n",
       "3       -1.109391   -1.966736             1.107810            0  ...        0   \n",
       "4       -1.109391   -0.044315             1.107810            0  ...        0   \n",
       "\n",
       "   revol_bal  revol_util  mort_acc  pub_rec_bankruptcies  credit_history  \\\n",
       "0  -0.546784   -1.023435 -0.312566                     0       -0.507738   \n",
       "1   0.051569    1.656392  0.185487                     0        1.811497   \n",
       "2  -0.039984    1.171393 -0.810619                     0       -0.405765   \n",
       "3  -0.491274   -0.982334 -0.810619                     0       -1.030678   \n",
       "4  -0.101400    0.123301 -0.810619                     0        0.015201   \n",
       "\n",
       "   credit_line_ratio  balance_annual_income  fico_avg_score  \\\n",
       "0           0.163442              -1.289327       -0.664438   \n",
       "1          -0.290346               0.013519       -1.142713   \n",
       "2          -0.661155              -1.119129       -0.505013   \n",
       "3           0.453866              -0.581365        0.451536   \n",
       "4          -0.203410              -1.206653       -0.823863   \n",
       "\n",
       "   installment_amnt_ratio  \n",
       "0                0.751798  \n",
       "1               -0.953725  \n",
       "2                0.751305  \n",
       "3                0.690353  \n",
       "4                0.847883  \n",
       "\n",
       "[5 rows x 22 columns]"
      ]
     },
     "execution_count": 110,
     "metadata": {},
     "output_type": "execute_result"
    }
   ],
   "source": [
    "df_train_scaled = pd.read_csv(df_train_path)\n",
    "df_train_scaled.head()"
   ]
  },
  {
   "cell_type": "code",
   "execution_count": 114,
   "id": "f8f3daa6",
   "metadata": {
    "ExecuteTime": {
     "end_time": "2024-03-27T20:45:57.749290Z",
     "start_time": "2024-03-27T20:45:57.661664Z"
    }
   },
   "outputs": [],
   "source": [
    "target_column = 'loan_status'\n",
    "\n",
    "#Extracting feature space and target variable\n",
    "X_train = df_train_scaled.drop(columns = target_column)\n",
    "y_train = df_train_scaled[target_column]\n",
    "\n",
    "drop_columns=['pub_rec','pub_rec_bankruptcies','emp_length','purpose','revol_bal','grade','int_rate']\n",
    "X_train=X_train.drop(columns=drop_columns)\n"
   ]
  },
  {
   "cell_type": "code",
   "execution_count": 115,
   "id": "3de9a8af",
   "metadata": {
    "ExecuteTime": {
     "end_time": "2024-03-27T20:47:29.129023Z",
     "start_time": "2024-03-27T20:47:28.679459Z"
    }
   },
   "outputs": [
    {
     "data": {
      "text/html": [
       "<div>\n",
       "<style scoped>\n",
       "    .dataframe tbody tr th:only-of-type {\n",
       "        vertical-align: middle;\n",
       "    }\n",
       "\n",
       "    .dataframe tbody tr th {\n",
       "        vertical-align: top;\n",
       "    }\n",
       "\n",
       "    .dataframe thead th {\n",
       "        text-align: right;\n",
       "    }\n",
       "</style>\n",
       "<table border=\"1\" class=\"dataframe\">\n",
       "  <thead>\n",
       "    <tr style=\"text-align: right;\">\n",
       "      <th></th>\n",
       "      <th>Unnamed: 0</th>\n",
       "      <th>term</th>\n",
       "      <th>int_rate</th>\n",
       "      <th>grade</th>\n",
       "      <th>sub_grade</th>\n",
       "      <th>emp_length</th>\n",
       "      <th>home_ownership</th>\n",
       "      <th>annual_inc</th>\n",
       "      <th>verification_status</th>\n",
       "      <th>loan_status</th>\n",
       "      <th>...</th>\n",
       "      <th>pub_rec</th>\n",
       "      <th>revol_bal</th>\n",
       "      <th>revol_util</th>\n",
       "      <th>mort_acc</th>\n",
       "      <th>pub_rec_bankruptcies</th>\n",
       "      <th>credit_history</th>\n",
       "      <th>credit_line_ratio</th>\n",
       "      <th>balance_annual_income</th>\n",
       "      <th>fico_avg_score</th>\n",
       "      <th>installment_amnt_ratio</th>\n",
       "    </tr>\n",
       "  </thead>\n",
       "  <tbody>\n",
       "    <tr>\n",
       "      <th>0</th>\n",
       "      <td>0</td>\n",
       "      <td>-0.570708</td>\n",
       "      <td>-1.292197</td>\n",
       "      <td>1.358839</td>\n",
       "      <td>1.211831</td>\n",
       "      <td>0.854755</td>\n",
       "      <td>-0.987969</td>\n",
       "      <td>-0.548759</td>\n",
       "      <td>1.121379</td>\n",
       "      <td>0</td>\n",
       "      <td>...</td>\n",
       "      <td>0</td>\n",
       "      <td>-0.837022</td>\n",
       "      <td>-2.334517</td>\n",
       "      <td>0.974724</td>\n",
       "      <td>0</td>\n",
       "      <td>0.604761</td>\n",
       "      <td>-1.478367</td>\n",
       "      <td>-1.421052</td>\n",
       "      <td>2.231901</td>\n",
       "      <td>-0.038992</td>\n",
       "    </tr>\n",
       "    <tr>\n",
       "      <th>1</th>\n",
       "      <td>78</td>\n",
       "      <td>-0.570708</td>\n",
       "      <td>-0.277482</td>\n",
       "      <td>0.593949</td>\n",
       "      <td>0.285325</td>\n",
       "      <td>1.130541</td>\n",
       "      <td>0.689838</td>\n",
       "      <td>-0.196528</td>\n",
       "      <td>-1.307721</td>\n",
       "      <td>0</td>\n",
       "      <td>...</td>\n",
       "      <td>0</td>\n",
       "      <td>0.907334</td>\n",
       "      <td>0.472810</td>\n",
       "      <td>0.527530</td>\n",
       "      <td>0</td>\n",
       "      <td>0.558767</td>\n",
       "      <td>-0.287923</td>\n",
       "      <td>-0.493957</td>\n",
       "      <td>0.551974</td>\n",
       "      <td>0.480381</td>\n",
       "    </tr>\n",
       "    <tr>\n",
       "      <th>2</th>\n",
       "      <td>83</td>\n",
       "      <td>-0.570708</td>\n",
       "      <td>-0.835138</td>\n",
       "      <td>0.593949</td>\n",
       "      <td>0.902995</td>\n",
       "      <td>1.130541</td>\n",
       "      <td>0.689838</td>\n",
       "      <td>1.286175</td>\n",
       "      <td>1.121379</td>\n",
       "      <td>0</td>\n",
       "      <td>...</td>\n",
       "      <td>0</td>\n",
       "      <td>0.232658</td>\n",
       "      <td>-0.556269</td>\n",
       "      <td>0.974724</td>\n",
       "      <td>0</td>\n",
       "      <td>0.943588</td>\n",
       "      <td>0.338626</td>\n",
       "      <td>0.869687</td>\n",
       "      <td>0.887959</td>\n",
       "      <td>0.192246</td>\n",
       "    </tr>\n",
       "    <tr>\n",
       "      <th>3</th>\n",
       "      <td>123</td>\n",
       "      <td>-0.570708</td>\n",
       "      <td>2.322725</td>\n",
       "      <td>-1.700719</td>\n",
       "      <td>-1.567686</td>\n",
       "      <td>1.130541</td>\n",
       "      <td>-0.987969</td>\n",
       "      <td>0.760771</td>\n",
       "      <td>-1.307721</td>\n",
       "      <td>0</td>\n",
       "      <td>...</td>\n",
       "      <td>1</td>\n",
       "      <td>-0.660958</td>\n",
       "      <td>-0.350453</td>\n",
       "      <td>0.080337</td>\n",
       "      <td>1</td>\n",
       "      <td>0.313079</td>\n",
       "      <td>-1.384385</td>\n",
       "      <td>-1.711448</td>\n",
       "      <td>-0.959961</td>\n",
       "      <td>1.905790</td>\n",
       "    </tr>\n",
       "    <tr>\n",
       "      <th>4</th>\n",
       "      <td>144</td>\n",
       "      <td>1.752125</td>\n",
       "      <td>-0.277482</td>\n",
       "      <td>0.593949</td>\n",
       "      <td>0.285325</td>\n",
       "      <td>-0.524176</td>\n",
       "      <td>0.689838</td>\n",
       "      <td>-0.262192</td>\n",
       "      <td>-1.307721</td>\n",
       "      <td>1</td>\n",
       "      <td>...</td>\n",
       "      <td>0</td>\n",
       "      <td>-0.559868</td>\n",
       "      <td>-1.540069</td>\n",
       "      <td>0.080337</td>\n",
       "      <td>0</td>\n",
       "      <td>-0.176380</td>\n",
       "      <td>0.338626</td>\n",
       "      <td>0.799203</td>\n",
       "      <td>2.231901</td>\n",
       "      <td>-2.143249</td>\n",
       "    </tr>\n",
       "  </tbody>\n",
       "</table>\n",
       "<p>5 rows × 22 columns</p>\n",
       "</div>"
      ],
      "text/plain": [
       "   Unnamed: 0      term  int_rate     grade  sub_grade  emp_length  \\\n",
       "0           0 -0.570708 -1.292197  1.358839   1.211831    0.854755   \n",
       "1          78 -0.570708 -0.277482  0.593949   0.285325    1.130541   \n",
       "2          83 -0.570708 -0.835138  0.593949   0.902995    1.130541   \n",
       "3         123 -0.570708  2.322725 -1.700719  -1.567686    1.130541   \n",
       "4         144  1.752125 -0.277482  0.593949   0.285325   -0.524176   \n",
       "\n",
       "   home_ownership  annual_inc  verification_status  loan_status  ...  pub_rec  \\\n",
       "0       -0.987969   -0.548759             1.121379            0  ...        0   \n",
       "1        0.689838   -0.196528            -1.307721            0  ...        0   \n",
       "2        0.689838    1.286175             1.121379            0  ...        0   \n",
       "3       -0.987969    0.760771            -1.307721            0  ...        1   \n",
       "4        0.689838   -0.262192            -1.307721            1  ...        0   \n",
       "\n",
       "   revol_bal  revol_util  mort_acc  pub_rec_bankruptcies  credit_history  \\\n",
       "0  -0.837022   -2.334517  0.974724                     0        0.604761   \n",
       "1   0.907334    0.472810  0.527530                     0        0.558767   \n",
       "2   0.232658   -0.556269  0.974724                     0        0.943588   \n",
       "3  -0.660958   -0.350453  0.080337                     1        0.313079   \n",
       "4  -0.559868   -1.540069  0.080337                     0       -0.176380   \n",
       "\n",
       "   credit_line_ratio  balance_annual_income  fico_avg_score  \\\n",
       "0          -1.478367              -1.421052        2.231901   \n",
       "1          -0.287923              -0.493957        0.551974   \n",
       "2           0.338626               0.869687        0.887959   \n",
       "3          -1.384385              -1.711448       -0.959961   \n",
       "4           0.338626               0.799203        2.231901   \n",
       "\n",
       "   installment_amnt_ratio  \n",
       "0               -0.038992  \n",
       "1                0.480381  \n",
       "2                0.192246  \n",
       "3                1.905790  \n",
       "4               -2.143249  \n",
       "\n",
       "[5 rows x 22 columns]"
      ]
     },
     "execution_count": 115,
     "metadata": {},
     "output_type": "execute_result"
    }
   ],
   "source": [
    "df_test_scaled = pd.read_csv(df_test_path)\n",
    "df_test_scaled.head()"
   ]
  },
  {
   "cell_type": "code",
   "execution_count": 116,
   "id": "6cadd7e8",
   "metadata": {
    "ExecuteTime": {
     "end_time": "2024-03-27T20:48:40.846681Z",
     "start_time": "2024-03-27T20:48:40.780105Z"
    }
   },
   "outputs": [],
   "source": [
    "target_column = 'loan_status'\n",
    "\n",
    "#Extracting feature space and target variable\n",
    "X_test = df_train_scaled.drop(columns = target_column)\n",
    "y_test = df_train_scaled[target_column]\n",
    "\n",
    "drop_columns=['pub_rec','pub_rec_bankruptcies','emp_length','purpose','revol_bal','grade','int_rate']\n",
    "X_test = X_test.drop(columns=drop_columns)"
   ]
  },
  {
   "cell_type": "code",
   "execution_count": 117,
   "id": "56744a4d",
   "metadata": {
    "ExecuteTime": {
     "end_time": "2024-03-27T20:49:43.541977Z",
     "start_time": "2024-03-27T20:49:43.484193Z"
    }
   },
   "outputs": [],
   "source": [
    "X_train = X_train.to_numpy()\n",
    "y_train = y_train.to_numpy()\n",
    "X_test = X_test.to_numpy()"
   ]
  },
  {
   "cell_type": "code",
   "execution_count": 123,
   "id": "39045a43",
   "metadata": {
    "ExecuteTime": {
     "end_time": "2024-03-27T20:54:13.110412Z",
     "start_time": "2024-03-27T20:53:25.809607Z"
    }
   },
   "outputs": [
    {
     "name": "stdout",
     "output_type": "stream",
     "text": [
      "Estimate: 3.973\n"
     ]
    },
    {
     "name": "stderr",
     "output_type": "stream",
     "text": [
      "100%|███████████████████████████████████████████| 25/25 [00:47<00:00,  1.89s/it]\n"
     ]
    }
   ],
   "source": [
    "# occurrences of each class in y_train\n",
    "class_counts = Counter(y_train)\n",
    "\n",
    "# scale_pos_weight value\n",
    "scale_pos_weight = class_counts[0] / class_counts[1]\n",
    "print('Estimate: %.3f' % scale_pos_weight)\n",
    "\n",
    "# Initialize an empty list to store AUC scores\n",
    "auc_arr = []\n",
    "\n",
    "# loop for 25 iterations\n",
    "for _ in tqdm(range(25)):\n",
    "    idx = np.random.choice(np.arange(len(X_train)), 500_000, replace=True)\n",
    "    X_temp = X_train[idx]\n",
    "    y_temp = y_train[idx]\n",
    "    \n",
    "    # Instantiate the XGBoost classifier with specified parameters\n",
    "    clf = xgb.XGBClassifier(colsample_bytree=0.9, eta=0.05, max_depth=6, n_estimators=200,\n",
    "                             n_jobs=-1, scale_pos_weight=scale_pos_weight)\n",
    "    \n",
    "    clf.fit(X_temp, y_temp)\n",
    "    \n",
    "    # predictions on the test set and calculate the ROC AUC score\n",
    "    y_pred = clf.predict_proba(X_test)\n",
    "    score = roc_auc_score(y_test, y_pred[:,1])\n",
    "    \n",
    "    auc_arr.append(score)"
   ]
  },
  {
   "cell_type": "markdown",
   "id": "41addfb5",
   "metadata": {},
   "source": [
    "# Histogram for AUC Score"
   ]
  },
  {
   "cell_type": "code",
   "execution_count": 126,
   "id": "d6e31edd",
   "metadata": {
    "ExecuteTime": {
     "end_time": "2024-03-27T20:58:05.541325Z",
     "start_time": "2024-03-27T20:58:05.416374Z"
    }
   },
   "outputs": [
    {
     "data": {
      "image/png": "[encoded data removed]",
      "text/plain": [
       "<Figure size 1600x800 with 1 Axes>"
      ]
     },
     "metadata": {},
     "output_type": "display_data"
    }
   ],
   "source": [
    "plt.figure(figsize=(16, 8))\n",
    "plt.hist(auc_arr)\n",
    "plt.xlabel(\"AUC Score\")\n",
    "plt.xticks(np.arange(0.65, 0.8, 0.05))\n",
    "plt.savefig(os.path.join(\"/Users/rolex/Desktop/IGP/Project/plots/auc_sampling.png\"))\n",
    "plt.show()"
   ]
  },
  {
   "cell_type": "code",
   "execution_count": null,
   "id": "b6546395",
   "metadata": {},
   "outputs": [],
   "source": []
  }
 ],
 "metadata": {
  "kernelspec": {
   "display_name": "Python 3 (ipykernel)",
   "language": "python",
   "name": "python3"
  },
  "language_info": {
   "codemirror_mode": {
    "name": "ipython",
    "version": 3
   },
   "file_extension": ".py",
   "mimetype": "text/x-python",
   "name": "python",
   "nbconvert_exporter": "python",
   "pygments_lexer": "ipython3",
   "version": "3.11.5"
  },
  "toc": {
   "base_numbering": 1,
   "nav_menu": {},
   "number_sections": true,
   "sideBar": true,
   "skip_h1_title": false,
   "title_cell": "Table of Contents",
   "title_sidebar": "Contents",
   "toc_cell": false,
   "toc_position": {},
   "toc_section_display": true,
   "toc_window_display": false
  },
  "varInspector": {
   "cols": {
    "lenName": 16,
    "lenType": 16,
    "lenVar": 40
   },
   "kernels_config": {
    "python": {
     "delete_cmd_postfix": "",
     "delete_cmd_prefix": "del ",
     "library": "var_list.py",
     "varRefreshCmd": "print(var_dic_list())"
    },
    "r": {
     "delete_cmd_postfix": ") ",
     "delete_cmd_prefix": "rm(",
     "library": "var_list.r",
     "varRefreshCmd": "cat(var_dic_list()) "
    }
   },
   "types_to_exclude": [
    "module",
    "function",
    "builtin_function_or_method",
    "instance",
    "_Feature"
   ],
   "window_display": false
  }
 },
 "nbformat": 4,
 "nbformat_minor": 5
}
